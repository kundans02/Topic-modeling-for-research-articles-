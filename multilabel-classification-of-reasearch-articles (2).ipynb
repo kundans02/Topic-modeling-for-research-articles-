{
 "cells": [
  {
   "cell_type": "markdown",
   "metadata": {
    "papermill": {
     "duration": 0.064571,
     "end_time": "2022-08-16T15:16:36.260809",
     "exception": false,
     "start_time": "2022-08-16T15:16:36.196238",
     "status": "completed"
    },
    "tags": []
   },
   "source": [
    "Please check this [article](https://medium.com/analytics-vidhya/an-introduction-to-multi-label-text-classification-b1bcb7c7364c?sk=8a30075009552cfd4a7534663edaed7e) for detailed explanation."
   ]
  },
  {
   "cell_type": "code",
   "execution_count": 1,
   "metadata": {
    "_cell_guid": "b1076dfc-b9ad-4769-8c92-a6c4dae69d19",
    "_uuid": "8f2839f25d086af736a60e9eeb907d3b93b6e0e5",
    "execution": {
     "iopub.execute_input": "2022-08-16T15:16:36.395765Z",
     "iopub.status.busy": "2022-08-16T15:16:36.395109Z",
     "iopub.status.idle": "2022-08-16T15:16:36.445812Z",
     "shell.execute_reply": "2022-08-16T15:16:36.445107Z",
     "shell.execute_reply.started": "2022-08-16T15:07:05.857683Z"
    },
    "papermill": {
     "duration": 0.120953,
     "end_time": "2022-08-16T15:16:36.445925",
     "exception": false,
     "start_time": "2022-08-16T15:16:36.324972",
     "status": "completed"
    },
    "tags": []
   },
   "outputs": [
    {
     "name": "stdout",
     "output_type": "stream",
     "text": [
      "/kaggle/input/cleaned-text-1/cleaned_text.csv\n",
      "/kaggle/input/topic-modeling-for-research-articles/train.csv\n",
      "/kaggle/input/topic-modeling-for-research-articles/test.csv\n",
      "/kaggle/input/cleaned-text/cleaned_text.csv\n",
      "/kaggle/input/n-corpus/n_corpus.csv\n",
      "/kaggle/input/text-cleaned/cleaned_text_1.csv\n",
      "/kaggle/input/googlenewsvectorsnegative300/GoogleNews-vectors-negative300.bin.gz\n",
      "/kaggle/input/googlenewsvectorsnegative300/GoogleNews-vectors-negative300.bin\n"
     ]
    }
   ],
   "source": [
    "# This Python 3 environment comes with many helpful analytics libraries installed\n",
    "# It is defined by the kaggle/python Docker image: https://github.com/kaggle/docker-python\n",
    "# For example, here's several helpful packages to load\n",
    "\n",
    "import numpy as np # linear algebra\n",
    "import pandas as pd # data processing, CSV file I/O (e.g. pd.read_csv)\n",
    "\n",
    "# Input data files are available in the read-only \"../input/\" directory\n",
    "# For example, running this (by clicking run or pressing Shift+Enter) will list all files under the input directory\n",
    "\n",
    "import os\n",
    "for dirname, _, filenames in os.walk('/kaggle/input'):\n",
    "    for filename in filenames:\n",
    "        print(os.path.join(dirname, filename))\n",
    "\n",
    "# You can write up to 5GB to the current directory (/kaggle/working/) that gets preserved as output when you create a version using \"Save & Run All\" \n",
    "# You can also write temporary files to /kaggle/temp/, but they won't be saved outside of the current session"
   ]
  },
  {
   "cell_type": "code",
   "execution_count": 2,
   "metadata": {
    "execution": {
     "iopub.execute_input": "2022-08-16T15:16:36.578743Z",
     "iopub.status.busy": "2022-08-16T15:16:36.578170Z",
     "iopub.status.idle": "2022-08-16T15:16:36.581938Z",
     "shell.execute_reply": "2022-08-16T15:16:36.581471Z",
     "shell.execute_reply.started": "2022-08-16T15:07:06.477046Z"
    },
    "papermill": {
     "duration": 0.070997,
     "end_time": "2022-08-16T15:16:36.582033",
     "exception": false,
     "start_time": "2022-08-16T15:16:36.511036",
     "status": "completed"
    },
    "tags": []
   },
   "outputs": [],
   "source": [
    "import pandas as pd\n",
    "import numpy as np\n",
    "import matplotlib.pyplot as plt"
   ]
  },
  {
   "cell_type": "markdown",
   "metadata": {
    "papermill": {
     "duration": 0.064038,
     "end_time": "2022-08-16T15:16:36.710802",
     "exception": false,
     "start_time": "2022-08-16T15:16:36.646764",
     "status": "completed"
    },
    "tags": []
   },
   "source": [
    "**Reading Data Files**"
   ]
  },
  {
   "cell_type": "code",
   "execution_count": 3,
   "metadata": {
    "execution": {
     "iopub.execute_input": "2022-08-16T15:16:36.844938Z",
     "iopub.status.busy": "2022-08-16T15:16:36.844359Z",
     "iopub.status.idle": "2022-08-16T15:16:37.492689Z",
     "shell.execute_reply": "2022-08-16T15:16:37.492171Z",
     "shell.execute_reply.started": "2022-08-16T15:07:07.516620Z"
    },
    "papermill": {
     "duration": 0.71689,
     "end_time": "2022-08-16T15:16:37.492808",
     "exception": false,
     "start_time": "2022-08-16T15:16:36.775918",
     "status": "completed"
    },
    "tags": []
   },
   "outputs": [],
   "source": [
    "train_df=pd.read_csv(\"../input/topic-modeling-for-research-articles/train.csv\")\n",
    "test_df=pd.read_csv(\"../input/topic-modeling-for-research-articles/test.csv\")"
   ]
  },
  {
   "cell_type": "code",
   "execution_count": 4,
   "metadata": {
    "execution": {
     "iopub.execute_input": "2022-08-16T15:16:37.633296Z",
     "iopub.status.busy": "2022-08-16T15:16:37.632779Z",
     "iopub.status.idle": "2022-08-16T15:16:37.642743Z",
     "shell.execute_reply": "2022-08-16T15:16:37.643119Z",
     "shell.execute_reply.started": "2022-08-16T15:07:08.161030Z"
    },
    "papermill": {
     "duration": 0.085784,
     "end_time": "2022-08-16T15:16:37.643240",
     "exception": false,
     "start_time": "2022-08-16T15:16:37.557456",
     "status": "completed"
    },
    "tags": []
   },
   "outputs": [
    {
     "data": {
      "text/html": [
       "<div>\n",
       "<style scoped>\n",
       "    .dataframe tbody tr th:only-of-type {\n",
       "        vertical-align: middle;\n",
       "    }\n",
       "\n",
       "    .dataframe tbody tr th {\n",
       "        vertical-align: top;\n",
       "    }\n",
       "\n",
       "    .dataframe thead th {\n",
       "        text-align: right;\n",
       "    }\n",
       "</style>\n",
       "<table border=\"1\" class=\"dataframe\">\n",
       "  <thead>\n",
       "    <tr style=\"text-align: right;\">\n",
       "      <th></th>\n",
       "      <th>ID</th>\n",
       "      <th>TITLE</th>\n",
       "      <th>ABSTRACT</th>\n",
       "      <th>Computer Science</th>\n",
       "      <th>Physics</th>\n",
       "      <th>Mathematics</th>\n",
       "      <th>Statistics</th>\n",
       "      <th>Quantitative Biology</th>\n",
       "      <th>Quantitative Finance</th>\n",
       "    </tr>\n",
       "  </thead>\n",
       "  <tbody>\n",
       "    <tr>\n",
       "      <th>0</th>\n",
       "      <td>1</td>\n",
       "      <td>Reconstructing Subject-Specific Effect Maps</td>\n",
       "      <td>Predictive models allow subject-specific inf...</td>\n",
       "      <td>1</td>\n",
       "      <td>0</td>\n",
       "      <td>0</td>\n",
       "      <td>0</td>\n",
       "      <td>0</td>\n",
       "      <td>0</td>\n",
       "    </tr>\n",
       "    <tr>\n",
       "      <th>1</th>\n",
       "      <td>2</td>\n",
       "      <td>Rotation Invariance Neural Network</td>\n",
       "      <td>Rotation invariance and translation invarian...</td>\n",
       "      <td>1</td>\n",
       "      <td>0</td>\n",
       "      <td>0</td>\n",
       "      <td>0</td>\n",
       "      <td>0</td>\n",
       "      <td>0</td>\n",
       "    </tr>\n",
       "    <tr>\n",
       "      <th>2</th>\n",
       "      <td>3</td>\n",
       "      <td>Spherical polyharmonics and Poisson kernels fo...</td>\n",
       "      <td>We introduce and develop the notion of spher...</td>\n",
       "      <td>0</td>\n",
       "      <td>0</td>\n",
       "      <td>1</td>\n",
       "      <td>0</td>\n",
       "      <td>0</td>\n",
       "      <td>0</td>\n",
       "    </tr>\n",
       "    <tr>\n",
       "      <th>3</th>\n",
       "      <td>4</td>\n",
       "      <td>A finite element approximation for the stochas...</td>\n",
       "      <td>The stochastic Landau--Lifshitz--Gilbert (LL...</td>\n",
       "      <td>0</td>\n",
       "      <td>0</td>\n",
       "      <td>1</td>\n",
       "      <td>0</td>\n",
       "      <td>0</td>\n",
       "      <td>0</td>\n",
       "    </tr>\n",
       "    <tr>\n",
       "      <th>4</th>\n",
       "      <td>5</td>\n",
       "      <td>Comparative study of Discrete Wavelet Transfor...</td>\n",
       "      <td>Fourier-transform infra-red (FTIR) spectra o...</td>\n",
       "      <td>1</td>\n",
       "      <td>0</td>\n",
       "      <td>0</td>\n",
       "      <td>1</td>\n",
       "      <td>0</td>\n",
       "      <td>0</td>\n",
       "    </tr>\n",
       "  </tbody>\n",
       "</table>\n",
       "</div>"
      ],
      "text/plain": [
       "   ID                                              TITLE  \\\n",
       "0   1        Reconstructing Subject-Specific Effect Maps   \n",
       "1   2                 Rotation Invariance Neural Network   \n",
       "2   3  Spherical polyharmonics and Poisson kernels fo...   \n",
       "3   4  A finite element approximation for the stochas...   \n",
       "4   5  Comparative study of Discrete Wavelet Transfor...   \n",
       "\n",
       "                                            ABSTRACT  Computer Science  \\\n",
       "0    Predictive models allow subject-specific inf...                 1   \n",
       "1    Rotation invariance and translation invarian...                 1   \n",
       "2    We introduce and develop the notion of spher...                 0   \n",
       "3    The stochastic Landau--Lifshitz--Gilbert (LL...                 0   \n",
       "4    Fourier-transform infra-red (FTIR) spectra o...                 1   \n",
       "\n",
       "   Physics  Mathematics  Statistics  Quantitative Biology  \\\n",
       "0        0            0           0                     0   \n",
       "1        0            0           0                     0   \n",
       "2        0            1           0                     0   \n",
       "3        0            1           0                     0   \n",
       "4        0            0           1                     0   \n",
       "\n",
       "   Quantitative Finance  \n",
       "0                     0  \n",
       "1                     0  \n",
       "2                     0  \n",
       "3                     0  \n",
       "4                     0  "
      ]
     },
     "execution_count": 4,
     "metadata": {},
     "output_type": "execute_result"
    }
   ],
   "source": [
    "\n",
    "\n",
    "\n",
    "train_df.head()"
   ]
  },
  {
   "cell_type": "code",
   "execution_count": 5,
   "metadata": {
    "execution": {
     "iopub.execute_input": "2022-08-16T15:16:37.778719Z",
     "iopub.status.busy": "2022-08-16T15:16:37.777871Z",
     "iopub.status.idle": "2022-08-16T15:16:37.780803Z",
     "shell.execute_reply": "2022-08-16T15:16:37.781217Z",
     "shell.execute_reply.started": "2022-08-16T15:07:08.371713Z"
    },
    "papermill": {
     "duration": 0.073374,
     "end_time": "2022-08-16T15:16:37.781357",
     "exception": false,
     "start_time": "2022-08-16T15:16:37.707983",
     "status": "completed"
    },
    "tags": []
   },
   "outputs": [
    {
     "data": {
      "text/plain": [
       "(20972, 9)"
      ]
     },
     "execution_count": 5,
     "metadata": {},
     "output_type": "execute_result"
    }
   ],
   "source": [
    "train_df.shape"
   ]
  },
  {
   "cell_type": "code",
   "execution_count": 6,
   "metadata": {
    "execution": {
     "iopub.execute_input": "2022-08-16T15:16:37.922827Z",
     "iopub.status.busy": "2022-08-16T15:16:37.921909Z",
     "iopub.status.idle": "2022-08-16T15:16:37.952145Z",
     "shell.execute_reply": "2022-08-16T15:16:37.951539Z",
     "shell.execute_reply.started": "2022-08-16T15:07:08.451540Z"
    },
    "papermill": {
     "duration": 0.10636,
     "end_time": "2022-08-16T15:16:37.952282",
     "exception": false,
     "start_time": "2022-08-16T15:16:37.845922",
     "status": "completed"
    },
    "tags": []
   },
   "outputs": [
    {
     "name": "stdout",
     "output_type": "stream",
     "text": [
      "Total number of articles =  20972\n",
      "Total number of articles without label =  0\n",
      "Total labels =  26267\n"
     ]
    }
   ],
   "source": [
    "x=train_df.iloc[:,3:].sum()\n",
    "rowsums=train_df.iloc[:,2:].sum(axis=1)\n",
    "no_label_count = 0\n",
    "for sum in rowsums.items():\n",
    "    if sum==0:\n",
    "        no_label_count +=1\n",
    "\n",
    "print(\"Total number of articles = \",len(train_df))\n",
    "print(\"Total number of articles without label = \",no_label_count)\n",
    "print(\"Total labels = \",x.sum())"
   ]
  },
  {
   "cell_type": "code",
   "execution_count": 7,
   "metadata": {
    "execution": {
     "iopub.execute_input": "2022-08-16T15:16:38.091495Z",
     "iopub.status.busy": "2022-08-16T15:16:38.090934Z",
     "iopub.status.idle": "2022-08-16T15:16:38.101194Z",
     "shell.execute_reply": "2022-08-16T15:16:38.101938Z",
     "shell.execute_reply.started": "2022-08-16T15:07:08.896862Z"
    },
    "papermill": {
     "duration": 0.083716,
     "end_time": "2022-08-16T15:16:38.102099",
     "exception": false,
     "start_time": "2022-08-16T15:16:38.018383",
     "status": "completed"
    },
    "tags": []
   },
   "outputs": [
    {
     "name": "stdout",
     "output_type": "stream",
     "text": [
      "Check for missing values in Train dataset\n",
      "0\n",
      "Check for missing values in Test dataset\n",
      "ID          0\n",
      "TITLE       0\n",
      "ABSTRACT    0\n",
      "dtype: int64\n"
     ]
    }
   ],
   "source": [
    "print(\"Check for missing values in Train dataset\")\n",
    "print(train_df.isnull().sum().sum())\n",
    "print(\"Check for missing values in Test dataset\")\n",
    "null_check=test_df.isnull().sum()\n",
    "print(null_check)"
   ]
  },
  {
   "cell_type": "markdown",
   "metadata": {
    "papermill": {
     "duration": 0.063961,
     "end_time": "2022-08-16T15:16:38.232427",
     "exception": false,
     "start_time": "2022-08-16T15:16:38.168466",
     "status": "completed"
    },
    "tags": []
   },
   "source": [
    "Lets now check the data types of columns, to assure that each column have the same data type as it should be (sometimes in some datasets there are some columns which has float on integer values but the data type of those columns is object, so for that case we need to change the datatype."
   ]
  },
  {
   "cell_type": "code",
   "execution_count": 8,
   "metadata": {
    "execution": {
     "iopub.execute_input": "2022-08-16T15:16:38.368228Z",
     "iopub.status.busy": "2022-08-16T15:16:38.367442Z",
     "iopub.status.idle": "2022-08-16T15:16:38.371128Z",
     "shell.execute_reply": "2022-08-16T15:16:38.370692Z",
     "shell.execute_reply.started": "2022-08-16T15:07:09.142198Z"
    },
    "papermill": {
     "duration": 0.074187,
     "end_time": "2022-08-16T15:16:38.371217",
     "exception": false,
     "start_time": "2022-08-16T15:16:38.297030",
     "status": "completed"
    },
    "tags": []
   },
   "outputs": [
    {
     "data": {
      "text/plain": [
       "ID                       int64\n",
       "TITLE                   object\n",
       "ABSTRACT                object\n",
       "Computer Science         int64\n",
       "Physics                  int64\n",
       "Mathematics              int64\n",
       "Statistics               int64\n",
       "Quantitative Biology     int64\n",
       "Quantitative Finance     int64\n",
       "dtype: object"
      ]
     },
     "execution_count": 8,
     "metadata": {},
     "output_type": "execute_result"
    }
   ],
   "source": [
    "train_df.dtypes"
   ]
  },
  {
   "cell_type": "markdown",
   "metadata": {
    "papermill": {
     "duration": 0.064758,
     "end_time": "2022-08-16T15:16:38.500919",
     "exception": false,
     "start_time": "2022-08-16T15:16:38.436161",
     "status": "completed"
    },
    "tags": []
   },
   "source": [
    "\n",
    "Now lets check each how many abstracts belongs to each category"
   ]
  },
  {
   "cell_type": "code",
   "execution_count": 9,
   "metadata": {
    "execution": {
     "iopub.execute_input": "2022-08-16T15:16:38.638457Z",
     "iopub.status.busy": "2022-08-16T15:16:38.637882Z",
     "iopub.status.idle": "2022-08-16T15:16:38.642620Z",
     "shell.execute_reply": "2022-08-16T15:16:38.642170Z",
     "shell.execute_reply.started": "2022-08-16T15:07:10.071776Z"
    },
    "papermill": {
     "duration": 0.076743,
     "end_time": "2022-08-16T15:16:38.642722",
     "exception": false,
     "start_time": "2022-08-16T15:16:38.565979",
     "status": "completed"
    },
    "tags": []
   },
   "outputs": [],
   "source": [
    "categories=[\"Computer Science\",\"Physics\",\"Mathematics\",\"Statistics\",\"Quantitative Biology\",\"Quantitative Finance\"]\n",
    "category_count=[]\n",
    "for i in categories:\n",
    "  category_count.append(train_df[i].sum())"
   ]
  },
  {
   "cell_type": "code",
   "execution_count": 10,
   "metadata": {
    "execution": {
     "iopub.execute_input": "2022-08-16T15:16:38.786968Z",
     "iopub.status.busy": "2022-08-16T15:16:38.786230Z",
     "iopub.status.idle": "2022-08-16T15:16:38.789782Z",
     "shell.execute_reply": "2022-08-16T15:16:38.789377Z",
     "shell.execute_reply.started": "2022-08-16T15:07:10.311908Z"
    },
    "papermill": {
     "duration": 0.07315,
     "end_time": "2022-08-16T15:16:38.789887",
     "exception": false,
     "start_time": "2022-08-16T15:16:38.716737",
     "status": "completed"
    },
    "tags": []
   },
   "outputs": [
    {
     "data": {
      "text/plain": [
       "[8594, 6013, 5618, 5206, 587, 249]"
      ]
     },
     "execution_count": 10,
     "metadata": {},
     "output_type": "execute_result"
    }
   ],
   "source": [
    "category_count"
   ]
  },
  {
   "cell_type": "code",
   "execution_count": 11,
   "metadata": {
    "execution": {
     "iopub.execute_input": "2022-08-16T15:16:38.926698Z",
     "iopub.status.busy": "2022-08-16T15:16:38.925990Z",
     "iopub.status.idle": "2022-08-16T15:16:39.078557Z",
     "shell.execute_reply": "2022-08-16T15:16:39.078960Z",
     "shell.execute_reply.started": "2022-08-16T15:07:11.546775Z"
    },
    "papermill": {
     "duration": 0.223885,
     "end_time": "2022-08-16T15:16:39.079103",
     "exception": false,
     "start_time": "2022-08-16T15:16:38.855218",
     "status": "completed"
    },
    "tags": []
   },
   "outputs": [
    {
     "data": {
      "text/plain": [
       "<BarContainer object of 6 artists>"
      ]
     },
     "execution_count": 11,
     "metadata": {},
     "output_type": "execute_result"
    },
    {
     "data": {
      "image/png": "[encoded data removed]",
      "text/plain": [
       "<Figure size 1080x360 with 1 Axes>"
      ]
     },
     "metadata": {
      "needs_background": "light"
     },
     "output_type": "display_data"
    }
   ],
   "source": [
    "plt.figure(figsize=(15,5))\n",
    "plt.bar(categories,category_count)"
   ]
  },
  {
   "cell_type": "markdown",
   "metadata": {
    "papermill": {
     "duration": 0.066978,
     "end_time": "2022-08-16T15:16:39.215406",
     "exception": false,
     "start_time": "2022-08-16T15:16:39.148428",
     "status": "completed"
    },
    "tags": []
   },
   "source": [
    "\n",
    "\n",
    "From the above plot its clear that \"Quantitative biolgy\" and \"quantitative Finance\" have too much less values, that means the dataset is imbalanced.\n",
    "\n",
    "As the dataset is imbalanced, to make it balanced we can apply resampling techniques, the dataset is small so we can try oversampling of these two classes. \n",
    "\n",
    "we will implement oversampling later, first we will try to build a basic classification model."
   ]
  },
  {
   "cell_type": "markdown",
   "metadata": {
    "papermill": {
     "duration": 0.065714,
     "end_time": "2022-08-16T15:16:39.386983",
     "exception": false,
     "start_time": "2022-08-16T15:16:39.321269",
     "status": "completed"
    },
    "tags": []
   },
   "source": [
    "now lets plot a figure for word count for each category."
   ]
  },
  {
   "cell_type": "code",
   "execution_count": 12,
   "metadata": {
    "execution": {
     "iopub.execute_input": "2022-08-16T15:16:39.526196Z",
     "iopub.status.busy": "2022-08-16T15:16:39.525478Z",
     "iopub.status.idle": "2022-08-16T15:16:39.786669Z",
     "shell.execute_reply": "2022-08-16T15:16:39.785752Z",
     "shell.execute_reply.started": "2022-08-16T15:07:13.561572Z"
    },
    "papermill": {
     "duration": 0.332998,
     "end_time": "2022-08-16T15:16:39.786799",
     "exception": false,
     "start_time": "2022-08-16T15:16:39.453801",
     "status": "completed"
    },
    "tags": []
   },
   "outputs": [],
   "source": [
    "total_word_count_in_each_category=[]\n",
    "for i in categories:\n",
    "  abstracts = train_df.where(train_df[i]==1)[['ABSTRACT']]\n",
    "  count=pd.Series(abstracts.values.flatten()).str.len().sum()\n",
    "  total_word_count_in_each_category.append(count)"
   ]
  },
  {
   "cell_type": "code",
   "execution_count": 13,
   "metadata": {
    "execution": {
     "iopub.execute_input": "2022-08-16T15:16:39.932791Z",
     "iopub.status.busy": "2022-08-16T15:16:39.925237Z",
     "iopub.status.idle": "2022-08-16T15:16:40.042462Z",
     "shell.execute_reply": "2022-08-16T15:16:40.041572Z",
     "shell.execute_reply.started": "2022-08-16T15:07:13.881476Z"
    },
    "papermill": {
     "duration": 0.18816,
     "end_time": "2022-08-16T15:16:40.042572",
     "exception": false,
     "start_time": "2022-08-16T15:16:39.854412",
     "status": "completed"
    },
    "tags": []
   },
   "outputs": [
    {
     "data": {
      "text/plain": [
       "<BarContainer object of 6 artists>"
      ]
     },
     "execution_count": 13,
     "metadata": {},
     "output_type": "execute_result"
    },
    {
     "data": {
      "image/png": "[encoded data removed]",
      "text/plain": [
       "<Figure size 1080x360 with 1 Axes>"
      ]
     },
     "metadata": {
      "needs_background": "light"
     },
     "output_type": "display_data"
    }
   ],
   "source": [
    "plt.figure(figsize=(15,5))\n",
    "plt.bar(categories,total_word_count_in_each_category)"
   ]
  },
  {
   "cell_type": "markdown",
   "metadata": {
    "papermill": {
     "duration": 0.066747,
     "end_time": "2022-08-16T15:16:40.180833",
     "exception": false,
     "start_time": "2022-08-16T15:16:40.114086",
     "status": "completed"
    },
    "tags": []
   },
   "source": [
    "Word count also almost in the same proportion as the number of texts in each category, only difference is statistics has more word than mathematics even the number of articles are more for mathematics."
   ]
  },
  {
   "cell_type": "markdown",
   "metadata": {
    "papermill": {
     "duration": 0.067662,
     "end_time": "2022-08-16T15:16:40.316956",
     "exception": false,
     "start_time": "2022-08-16T15:16:40.249294",
     "status": "completed"
    },
    "tags": []
   },
   "source": [
    "now lets analyze avg word length of abstract, for each category."
   ]
  },
  {
   "cell_type": "code",
   "execution_count": 14,
   "metadata": {
    "execution": {
     "iopub.execute_input": "2022-08-16T15:16:40.456572Z",
     "iopub.status.busy": "2022-08-16T15:16:40.455836Z",
     "iopub.status.idle": "2022-08-16T15:16:40.459038Z",
     "shell.execute_reply": "2022-08-16T15:16:40.458513Z",
     "shell.execute_reply.started": "2022-08-16T15:07:14.030686Z"
    },
    "papermill": {
     "duration": 0.07504,
     "end_time": "2022-08-16T15:16:40.459147",
     "exception": false,
     "start_time": "2022-08-16T15:16:40.384107",
     "status": "completed"
    },
    "tags": []
   },
   "outputs": [],
   "source": [
    "avg_abstract_len_for_each_category=[]\n",
    "for i in range(6):\n",
    "  avg_abstract_len_for_each_category.append(total_word_count_in_each_category[i]/category_count[i])"
   ]
  },
  {
   "cell_type": "code",
   "execution_count": 15,
   "metadata": {
    "execution": {
     "iopub.execute_input": "2022-08-16T15:16:40.603187Z",
     "iopub.status.busy": "2022-08-16T15:16:40.598230Z",
     "iopub.status.idle": "2022-08-16T15:16:40.717838Z",
     "shell.execute_reply": "2022-08-16T15:16:40.717403Z",
     "shell.execute_reply.started": "2022-08-16T15:07:14.121776Z"
    },
    "papermill": {
     "duration": 0.191688,
     "end_time": "2022-08-16T15:16:40.717952",
     "exception": false,
     "start_time": "2022-08-16T15:16:40.526264",
     "status": "completed"
    },
    "tags": []
   },
   "outputs": [
    {
     "data": {
      "text/plain": [
       "<BarContainer object of 6 artists>"
      ]
     },
     "execution_count": 15,
     "metadata": {},
     "output_type": "execute_result"
    },
    {
     "data": {
      "image/png": "[encoded data removed]",
      "text/plain": [
       "<Figure size 1080x360 with 1 Axes>"
      ]
     },
     "metadata": {
      "needs_background": "light"
     },
     "output_type": "display_data"
    }
   ],
   "source": [
    "plt.figure(figsize=(15,5))\n",
    "plt.bar(categories,avg_abstract_len_for_each_category)"
   ]
  },
  {
   "cell_type": "markdown",
   "metadata": {
    "papermill": {
     "duration": 0.10595,
     "end_time": "2022-08-16T15:16:40.893029",
     "exception": false,
     "start_time": "2022-08-16T15:16:40.787079",
     "status": "completed"
    },
    "tags": []
   },
   "source": [
    "From the above plot its clear that articles of quantitaive biology are longest, and mathematics articles are shortest."
   ]
  },
  {
   "cell_type": "markdown",
   "metadata": {
    "papermill": {
     "duration": 0.067939,
     "end_time": "2022-08-16T15:16:41.030510",
     "exception": false,
     "start_time": "2022-08-16T15:16:40.962571",
     "status": "completed"
    },
    "tags": []
   },
   "source": [
    "lets concatenate Title and Abstract, and make it one big text."
   ]
  },
  {
   "cell_type": "code",
   "execution_count": 16,
   "metadata": {
    "execution": {
     "iopub.execute_input": "2022-08-16T15:16:41.195547Z",
     "iopub.status.busy": "2022-08-16T15:16:41.194841Z",
     "iopub.status.idle": "2022-08-16T15:16:41.198098Z",
     "shell.execute_reply": "2022-08-16T15:16:41.197656Z",
     "shell.execute_reply.started": "2022-08-16T15:07:14.851723Z"
    },
    "papermill": {
     "duration": 0.10008,
     "end_time": "2022-08-16T15:16:41.198197",
     "exception": false,
     "start_time": "2022-08-16T15:16:41.098117",
     "status": "completed"
    },
    "tags": []
   },
   "outputs": [],
   "source": [
    "train_df[\"text\"]=train_df[\"TITLE\"]+\" \"+train_df[\"ABSTRACT\"]"
   ]
  },
  {
   "cell_type": "markdown",
   "metadata": {
    "papermill": {
     "duration": 0.080456,
     "end_time": "2022-08-16T15:16:41.376873",
     "exception": false,
     "start_time": "2022-08-16T15:16:41.296417",
     "status": "completed"
    },
    "tags": []
   },
   "source": [
    "dropping the TITLE and ABSTRACT columns."
   ]
  },
  {
   "cell_type": "code",
   "execution_count": 17,
   "metadata": {
    "execution": {
     "iopub.execute_input": "2022-08-16T15:16:41.527501Z",
     "iopub.status.busy": "2022-08-16T15:16:41.522701Z",
     "iopub.status.idle": "2022-08-16T15:16:41.530738Z",
     "shell.execute_reply": "2022-08-16T15:16:41.530102Z",
     "shell.execute_reply.started": "2022-08-16T15:07:15.571586Z"
    },
    "papermill": {
     "duration": 0.085545,
     "end_time": "2022-08-16T15:16:41.530858",
     "exception": false,
     "start_time": "2022-08-16T15:16:41.445313",
     "status": "completed"
    },
    "tags": []
   },
   "outputs": [],
   "source": [
    "train_df.drop([\"TITLE\",\"ABSTRACT\"],axis=1,inplace=True)"
   ]
  },
  {
   "cell_type": "code",
   "execution_count": 18,
   "metadata": {
    "execution": {
     "iopub.execute_input": "2022-08-16T15:16:41.711980Z",
     "iopub.status.busy": "2022-08-16T15:16:41.708829Z",
     "iopub.status.idle": "2022-08-16T15:16:41.719689Z",
     "shell.execute_reply": "2022-08-16T15:16:41.720113Z",
     "shell.execute_reply.started": "2022-08-16T15:07:15.861444Z"
    },
    "papermill": {
     "duration": 0.109336,
     "end_time": "2022-08-16T15:16:41.720236",
     "exception": false,
     "start_time": "2022-08-16T15:16:41.610900",
     "status": "completed"
    },
    "tags": []
   },
   "outputs": [
    {
     "data": {
      "text/html": [
       "<div>\n",
       "<style scoped>\n",
       "    .dataframe tbody tr th:only-of-type {\n",
       "        vertical-align: middle;\n",
       "    }\n",
       "\n",
       "    .dataframe tbody tr th {\n",
       "        vertical-align: top;\n",
       "    }\n",
       "\n",
       "    .dataframe thead th {\n",
       "        text-align: right;\n",
       "    }\n",
       "</style>\n",
       "<table border=\"1\" class=\"dataframe\">\n",
       "  <thead>\n",
       "    <tr style=\"text-align: right;\">\n",
       "      <th></th>\n",
       "      <th>ID</th>\n",
       "      <th>Computer Science</th>\n",
       "      <th>Physics</th>\n",
       "      <th>Mathematics</th>\n",
       "      <th>Statistics</th>\n",
       "      <th>Quantitative Biology</th>\n",
       "      <th>Quantitative Finance</th>\n",
       "      <th>text</th>\n",
       "    </tr>\n",
       "  </thead>\n",
       "  <tbody>\n",
       "    <tr>\n",
       "      <th>0</th>\n",
       "      <td>1</td>\n",
       "      <td>1</td>\n",
       "      <td>0</td>\n",
       "      <td>0</td>\n",
       "      <td>0</td>\n",
       "      <td>0</td>\n",
       "      <td>0</td>\n",
       "      <td>Reconstructing Subject-Specific Effect Maps   ...</td>\n",
       "    </tr>\n",
       "    <tr>\n",
       "      <th>1</th>\n",
       "      <td>2</td>\n",
       "      <td>1</td>\n",
       "      <td>0</td>\n",
       "      <td>0</td>\n",
       "      <td>0</td>\n",
       "      <td>0</td>\n",
       "      <td>0</td>\n",
       "      <td>Rotation Invariance Neural Network   Rotation ...</td>\n",
       "    </tr>\n",
       "    <tr>\n",
       "      <th>2</th>\n",
       "      <td>3</td>\n",
       "      <td>0</td>\n",
       "      <td>0</td>\n",
       "      <td>1</td>\n",
       "      <td>0</td>\n",
       "      <td>0</td>\n",
       "      <td>0</td>\n",
       "      <td>Spherical polyharmonics and Poisson kernels fo...</td>\n",
       "    </tr>\n",
       "    <tr>\n",
       "      <th>3</th>\n",
       "      <td>4</td>\n",
       "      <td>0</td>\n",
       "      <td>0</td>\n",
       "      <td>1</td>\n",
       "      <td>0</td>\n",
       "      <td>0</td>\n",
       "      <td>0</td>\n",
       "      <td>A finite element approximation for the stochas...</td>\n",
       "    </tr>\n",
       "    <tr>\n",
       "      <th>4</th>\n",
       "      <td>5</td>\n",
       "      <td>1</td>\n",
       "      <td>0</td>\n",
       "      <td>0</td>\n",
       "      <td>1</td>\n",
       "      <td>0</td>\n",
       "      <td>0</td>\n",
       "      <td>Comparative study of Discrete Wavelet Transfor...</td>\n",
       "    </tr>\n",
       "  </tbody>\n",
       "</table>\n",
       "</div>"
      ],
      "text/plain": [
       "   ID  Computer Science  Physics  Mathematics  Statistics  \\\n",
       "0   1                 1        0            0           0   \n",
       "1   2                 1        0            0           0   \n",
       "2   3                 0        0            1           0   \n",
       "3   4                 0        0            1           0   \n",
       "4   5                 1        0            0           1   \n",
       "\n",
       "   Quantitative Biology  Quantitative Finance  \\\n",
       "0                     0                     0   \n",
       "1                     0                     0   \n",
       "2                     0                     0   \n",
       "3                     0                     0   \n",
       "4                     0                     0   \n",
       "\n",
       "                                                text  \n",
       "0  Reconstructing Subject-Specific Effect Maps   ...  \n",
       "1  Rotation Invariance Neural Network   Rotation ...  \n",
       "2  Spherical polyharmonics and Poisson kernels fo...  \n",
       "3  A finite element approximation for the stochas...  \n",
       "4  Comparative study of Discrete Wavelet Transfor...  "
      ]
     },
     "execution_count": 18,
     "metadata": {},
     "output_type": "execute_result"
    }
   ],
   "source": [
    "train_df.head()"
   ]
  },
  {
   "cell_type": "markdown",
   "metadata": {
    "papermill": {
     "duration": 0.068631,
     "end_time": "2022-08-16T15:16:41.870446",
     "exception": false,
     "start_time": "2022-08-16T15:16:41.801815",
     "status": "completed"
    },
    "tags": []
   },
   "source": [
    "Lets make a function for train test split that we will need further."
   ]
  },
  {
   "cell_type": "code",
   "execution_count": 19,
   "metadata": {
    "execution": {
     "iopub.execute_input": "2022-08-16T15:16:42.013939Z",
     "iopub.status.busy": "2022-08-16T15:16:42.013187Z",
     "iopub.status.idle": "2022-08-16T15:16:42.702374Z",
     "shell.execute_reply": "2022-08-16T15:16:42.701587Z",
     "shell.execute_reply.started": "2022-08-16T15:07:16.261350Z"
    },
    "papermill": {
     "duration": 0.761369,
     "end_time": "2022-08-16T15:16:42.702495",
     "exception": false,
     "start_time": "2022-08-16T15:16:41.941126",
     "status": "completed"
    },
    "tags": []
   },
   "outputs": [],
   "source": [
    "from sklearn.model_selection import train_test_split\n"
   ]
  },
  {
   "cell_type": "code",
   "execution_count": 20,
   "metadata": {
    "execution": {
     "iopub.execute_input": "2022-08-16T15:16:42.895095Z",
     "iopub.status.busy": "2022-08-16T15:16:42.894186Z",
     "iopub.status.idle": "2022-08-16T15:16:42.896527Z",
     "shell.execute_reply": "2022-08-16T15:16:42.897038Z",
     "shell.execute_reply.started": "2022-08-16T15:07:17.120932Z"
    },
    "papermill": {
     "duration": 0.12489,
     "end_time": "2022-08-16T15:16:42.897159",
     "exception": false,
     "start_time": "2022-08-16T15:16:42.772269",
     "status": "completed"
    },
    "tags": []
   },
   "outputs": [],
   "source": [
    "def split(X,y,test_size):\n",
    "    X_train,X_test,y_train,y_test=train_test_split(X,y,test_size=test_size,random_state=42)\n",
    "    return (X_train,X_test,y_train,y_test)"
   ]
  },
  {
   "cell_type": "code",
   "execution_count": 21,
   "metadata": {
    "execution": {
     "iopub.execute_input": "2022-08-16T15:16:43.134744Z",
     "iopub.status.busy": "2022-08-16T15:16:43.133935Z",
     "iopub.status.idle": "2022-08-16T15:16:45.016924Z",
     "shell.execute_reply": "2022-08-16T15:16:45.017370Z",
     "shell.execute_reply.started": "2022-08-16T15:07:17.137016Z"
    },
    "papermill": {
     "duration": 1.997606,
     "end_time": "2022-08-16T15:16:45.017519",
     "exception": false,
     "start_time": "2022-08-16T15:16:43.019913",
     "status": "completed"
    },
    "tags": []
   },
   "outputs": [
    {
     "name": "stdout",
     "output_type": "stream",
     "text": [
      "[nltk_data] Downloading package stopwords to /usr/share/nltk_data...\n",
      "[nltk_data]   Unzipping corpora/stopwords.zip.\n",
      "[nltk_data] Downloading package wordnet to /usr/share/nltk_data...\n",
      "[nltk_data]   Package wordnet is already up-to-date!\n",
      "[nltk_data] Downloading package omw-1.4 to /usr/share/nltk_data...\n"
     ]
    }
   ],
   "source": [
    "import nltk\n",
    "import re \n",
    "nltk.download(\"stopwords\")\n",
    "nltk.download('wordnet')\n",
    "nltk.download('omw-1.4')\n",
    "from nltk.corpus import stopwords\n",
    "from nltk.stem.porter import PorterStemmer\n",
    "from nltk.stem import WordNetLemmatizer"
   ]
  },
  {
   "cell_type": "markdown",
   "metadata": {
    "papermill": {
     "duration": 0.06857,
     "end_time": "2022-08-16T15:16:45.154720",
     "exception": false,
     "start_time": "2022-08-16T15:16:45.086150",
     "status": "completed"
    },
    "tags": []
   },
   "source": [
    "# **Cleaning the text**"
   ]
  },
  {
   "cell_type": "code",
   "execution_count": 22,
   "metadata": {
    "execution": {
     "iopub.execute_input": "2022-08-16T15:16:45.300883Z",
     "iopub.status.busy": "2022-08-16T15:16:45.300133Z",
     "iopub.status.idle": "2022-08-16T15:16:45.302834Z",
     "shell.execute_reply": "2022-08-16T15:16:45.302411Z",
     "shell.execute_reply.started": "2022-08-16T15:07:18.648380Z"
    },
    "papermill": {
     "duration": 0.078877,
     "end_time": "2022-08-16T15:16:45.302931",
     "exception": false,
     "start_time": "2022-08-16T15:16:45.224054",
     "status": "completed"
    },
    "tags": []
   },
   "outputs": [],
   "source": [
    "lemmatizer=WordNetLemmatizer()\n",
    "ps=PorterStemmer()"
   ]
  },
  {
   "cell_type": "code",
   "execution_count": 23,
   "metadata": {
    "execution": {
     "iopub.execute_input": "2022-08-16T15:16:45.484635Z",
     "iopub.status.busy": "2022-08-16T15:16:45.483860Z",
     "iopub.status.idle": "2022-08-16T15:16:45.486963Z",
     "shell.execute_reply": "2022-08-16T15:16:45.486287Z",
     "shell.execute_reply.started": "2022-08-16T15:07:18.659443Z"
    },
    "papermill": {
     "duration": 0.115076,
     "end_time": "2022-08-16T15:16:45.487089",
     "exception": false,
     "start_time": "2022-08-16T15:16:45.372013",
     "status": "completed"
    },
    "tags": []
   },
   "outputs": [],
   "source": [
    "corpus=\" \".join(train_df.text)"
   ]
  },
  {
   "cell_type": "code",
   "execution_count": 24,
   "metadata": {
    "execution": {
     "iopub.execute_input": "2022-08-16T15:16:45.630199Z",
     "iopub.status.busy": "2022-08-16T15:16:45.629253Z",
     "iopub.status.idle": "2022-08-16T15:16:45.632235Z",
     "shell.execute_reply": "2022-08-16T15:16:45.632657Z",
     "shell.execute_reply.started": "2022-08-16T15:07:18.719893Z"
    },
    "papermill": {
     "duration": 0.076112,
     "end_time": "2022-08-16T15:16:45.632770",
     "exception": false,
     "start_time": "2022-08-16T15:16:45.556658",
     "status": "completed"
    },
    "tags": []
   },
   "outputs": [
    {
     "data": {
      "text/plain": [
       "'n_corpus=[]\\nfor i in range(train_df.shape[0]):\\n  title=re.sub(\"[^a-zA-Z]\",\" \",train_df.text[i])\\n  title=title.lower()\\n  title=title.split()\\n  title=[lemmatizer.lemmatize(word) for word in title if not word in stopwords.words(\"english\")]\\n  title=\" \".join(title)\\n  n_corpus.append(title)\\nlemmatizer.lemmatize(\"studies\")'"
      ]
     },
     "execution_count": 24,
     "metadata": {},
     "output_type": "execute_result"
    }
   ],
   "source": [
    "'''n_corpus=[]\n",
    "for i in range(train_df.shape[0]):\n",
    "  title=re.sub(\"[^a-zA-Z]\",\" \",train_df.text[i])\n",
    "  title=title.lower()\n",
    "  title=title.split()\n",
    "  title=[lemmatizer.lemmatize(word) for word in title if not word in stopwords.words(\"english\")]\n",
    "  title=\" \".join(title)\n",
    "  n_corpus.append(title)\n",
    "lemmatizer.lemmatize(\"studies\")'''"
   ]
  },
  {
   "cell_type": "code",
   "execution_count": 25,
   "metadata": {
    "execution": {
     "iopub.execute_input": "2022-08-16T15:16:45.773962Z",
     "iopub.status.busy": "2022-08-16T15:16:45.773133Z",
     "iopub.status.idle": "2022-08-16T15:16:45.775334Z",
     "shell.execute_reply": "2022-08-16T15:16:45.775717Z",
     "shell.execute_reply.started": "2022-08-16T15:07:18.731424Z"
    },
    "papermill": {
     "duration": 0.074696,
     "end_time": "2022-08-16T15:16:45.775834",
     "exception": false,
     "start_time": "2022-08-16T15:16:45.701138",
     "status": "completed"
    },
    "tags": []
   },
   "outputs": [],
   "source": [
    "# Saving this n_corpus to a csv file so that we don't have run above cell every time because it is taking too much time\n",
    "#import pandas as pd\n",
    "# Create a local file to upload.\n",
    "#df_ = pd.DataFrame(n_corpus)\n",
    "#df_.to_csv(\"n_corpus.csv\")"
   ]
  },
  {
   "cell_type": "code",
   "execution_count": 26,
   "metadata": {
    "execution": {
     "iopub.execute_input": "2022-08-16T15:16:45.916963Z",
     "iopub.status.busy": "2022-08-16T15:16:45.916426Z",
     "iopub.status.idle": "2022-08-16T15:16:45.920279Z",
     "shell.execute_reply": "2022-08-16T15:16:45.919860Z",
     "shell.execute_reply.started": "2022-08-16T15:07:18.740583Z"
    },
    "papermill": {
     "duration": 0.076532,
     "end_time": "2022-08-16T15:16:45.920404",
     "exception": false,
     "start_time": "2022-08-16T15:16:45.843872",
     "status": "completed"
    },
    "tags": []
   },
   "outputs": [],
   "source": [
    "# n_corpus1=pd.read_csv('../input/n-corpus/n_corpus.csv')\n",
    "# n_corpus=list(n_corpus1['0'].values)\n",
    "# n_corpus[:2]"
   ]
  },
  {
   "cell_type": "markdown",
   "metadata": {
    "papermill": {
     "duration": 0.069751,
     "end_time": "2022-08-16T15:16:46.060489",
     "exception": false,
     "start_time": "2022-08-16T15:16:45.990738",
     "status": "completed"
    },
    "tags": []
   },
   "source": [
    "\n",
    "importing spacy library for lemmatizing the words and using regular expression we will clean the text(removing numeric characters and stopwards )"
   ]
  },
  {
   "cell_type": "code",
   "execution_count": 27,
   "metadata": {
    "execution": {
     "iopub.execute_input": "2022-08-16T15:16:46.203199Z",
     "iopub.status.busy": "2022-08-16T15:16:46.202543Z",
     "iopub.status.idle": "2022-08-16T15:16:47.402903Z",
     "shell.execute_reply": "2022-08-16T15:16:47.402047Z",
     "shell.execute_reply.started": "2022-08-16T15:07:19.806526Z"
    },
    "papermill": {
     "duration": 1.273191,
     "end_time": "2022-08-16T15:16:47.403052",
     "exception": false,
     "start_time": "2022-08-16T15:16:46.129861",
     "status": "completed"
    },
    "tags": []
   },
   "outputs": [],
   "source": [
    "import spacy"
   ]
  },
  {
   "cell_type": "code",
   "execution_count": 28,
   "metadata": {
    "execution": {
     "iopub.execute_input": "2022-08-16T15:16:47.547301Z",
     "iopub.status.busy": "2022-08-16T15:16:47.546529Z",
     "iopub.status.idle": "2022-08-16T15:16:48.377135Z",
     "shell.execute_reply": "2022-08-16T15:16:48.376597Z",
     "shell.execute_reply.started": "2022-08-16T15:07:21.293132Z"
    },
    "papermill": {
     "duration": 0.903979,
     "end_time": "2022-08-16T15:16:48.377251",
     "exception": false,
     "start_time": "2022-08-16T15:16:47.473272",
     "status": "completed"
    },
    "tags": []
   },
   "outputs": [],
   "source": [
    "nlp=spacy.load(\"en_core_web_sm\")\n",
    "\n",
    "\n"
   ]
  },
  {
   "cell_type": "markdown",
   "metadata": {
    "papermill": {
     "duration": 0.070704,
     "end_time": "2022-08-16T15:16:48.518425",
     "exception": false,
     "start_time": "2022-08-16T15:16:48.447721",
     "status": "completed"
    },
    "tags": []
   },
   "source": [
    "we will store the cleaned text into a list"
   ]
  },
  {
   "cell_type": "code",
   "execution_count": 29,
   "metadata": {
    "execution": {
     "iopub.execute_input": "2022-08-16T15:16:48.659932Z",
     "iopub.status.busy": "2022-08-16T15:16:48.659082Z",
     "iopub.status.idle": "2022-08-16T15:16:48.661277Z",
     "shell.execute_reply": "2022-08-16T15:16:48.661671Z",
     "shell.execute_reply.started": "2022-08-16T15:07:22.234909Z"
    },
    "papermill": {
     "duration": 0.074892,
     "end_time": "2022-08-16T15:16:48.661793",
     "exception": false,
     "start_time": "2022-08-16T15:16:48.586901",
     "status": "completed"
    },
    "tags": []
   },
   "outputs": [],
   "source": [
    "# cleaned_text=[]\n",
    "# for i in range(train_df.shape[0]):\n",
    "#     text=train_df.text[i]\n",
    "#     text==text.lower().strip()\n",
    "#     text=re.sub(\"[^a-zA-Z]\",\" \",text)\n",
    "#     text=nlp(text)\n",
    "#     text=[token.lemma_.strip() for token in text if (not token.is_stop) and (len(token)>1)]\n",
    "#     text=\" \".join(text)\n",
    "#     cleaned_text.append(text)\n",
    "    \n",
    "    \n",
    "      "
   ]
  },
  {
   "cell_type": "code",
   "execution_count": 30,
   "metadata": {
    "execution": {
     "iopub.execute_input": "2022-08-16T15:16:48.805224Z",
     "iopub.status.busy": "2022-08-16T15:16:48.804342Z",
     "iopub.status.idle": "2022-08-16T15:16:48.806640Z",
     "shell.execute_reply": "2022-08-16T15:16:48.807018Z",
     "shell.execute_reply.started": "2022-08-16T15:07:22.242788Z"
    },
    "papermill": {
     "duration": 0.076177,
     "end_time": "2022-08-16T15:16:48.807151",
     "exception": false,
     "start_time": "2022-08-16T15:16:48.730974",
     "status": "completed"
    },
    "tags": []
   },
   "outputs": [],
   "source": [
    "# cleaned_text[:1]"
   ]
  },
  {
   "cell_type": "code",
   "execution_count": 31,
   "metadata": {
    "execution": {
     "iopub.execute_input": "2022-08-16T15:16:48.982158Z",
     "iopub.status.busy": "2022-08-16T15:16:48.981430Z",
     "iopub.status.idle": "2022-08-16T15:16:48.984419Z",
     "shell.execute_reply": "2022-08-16T15:16:48.983870Z",
     "shell.execute_reply.started": "2022-08-16T15:07:22.255541Z"
    },
    "papermill": {
     "duration": 0.107874,
     "end_time": "2022-08-16T15:16:48.984519",
     "exception": false,
     "start_time": "2022-08-16T15:16:48.876645",
     "status": "completed"
    },
    "tags": []
   },
   "outputs": [],
   "source": [
    "# Saving this cleaned text to a csv file so that we don't have run above cell every time because it is time taking\n",
    "# import pandas as pd\n",
    "# # Create a local file to upload.\n",
    "# df = pd.DataFrame(cleaned_text)\n",
    "# df.to_csv(\"cleaned_text_1.csv\")"
   ]
  },
  {
   "cell_type": "code",
   "execution_count": 32,
   "metadata": {
    "execution": {
     "iopub.execute_input": "2022-08-16T15:16:49.129518Z",
     "iopub.status.busy": "2022-08-16T15:16:49.128969Z",
     "iopub.status.idle": "2022-08-16T15:16:49.428118Z",
     "shell.execute_reply": "2022-08-16T15:16:49.428556Z",
     "shell.execute_reply.started": "2022-08-16T15:07:22.265529Z"
    },
    "papermill": {
     "duration": 0.374411,
     "end_time": "2022-08-16T15:16:49.428701",
     "exception": false,
     "start_time": "2022-08-16T15:16:49.054290",
     "status": "completed"
    },
    "tags": []
   },
   "outputs": [
    {
     "data": {
      "text/plain": [
       "['reconstruct subject Specific effect map  predictive model allow subject specific inference analyze disease relate alteration neuroimage datum give subject data inference level global identifiye condition presence subject local detect condition effect individual measurement extract subject datum global inference widely local inference form subject specific effect map rarely exist model yield noisy detection compose disperse isolate island article propose reconstruction method name RSM improve subject specific detection predictive modeling approach particular binary classifier RSM specifically aim reduce noise sampling error associate finite sample example train classifier propose method wrapper type algorithm different binary classifier diagnostic manner information condition presence Reconstruction pose Maximum Posteriori problem prior model parameter estimate train datum classifier specific fashion experimental evaluation perform synthetically generate datum datum Alzheimer Disease Neuroimaging Initiative ADNI database result synthetic datum demonstrate RSM yield high detection accuracy compare model directly bootstrap averaging Analyses ADNI dataset RSM improve correlation subject specific detection cortical thickness datum non imaging marker Alzheimer Disease ad  Mini Mental State Examination Score Cerebrospinal Fluid amyloid  beta level reliability study longitudinal ADNI dataset improvement detection reliability RSM',\n",
       " 'rotation Invariance Neural Network  rotation invariance translation invariance great value image recognition task paper bring new architecture convolutional neural network CNN name cyclic convolutional layer achieve rotation invariance  symbol recognition position orientation  symbol network achieve detection purpose multiple non overlap target architecture achieve shot learn case invariance',\n",
       " 'spherical polyharmonic Poisson kernel polyharmonic function  introduce develop notion spherical polyharmonic natural generalisation spherical harmonic particular study theory zonal polyharmonic allow analogously zonal harmonic construct Poisson kernel polyharmonic function union rotated ball find representation Poisson kernel zonal polyharmonic term Gegenbauer polynomial connection classical Poisson kernel harmonic function ball Poisson kernel polyharmonic function union rotated ball Cauchy Hua kernel holomorphic function Lie ball']"
      ]
     },
     "execution_count": 32,
     "metadata": {},
     "output_type": "execute_result"
    }
   ],
   "source": [
    "cleaned_text=pd.read_csv('../input/text-cleaned/cleaned_text_1.csv')\n",
    "cleaned_text=list(cleaned_text['0'].values)\n",
    "cleaned_text[:3]"
   ]
  },
  {
   "cell_type": "code",
   "execution_count": 33,
   "metadata": {
    "execution": {
     "iopub.execute_input": "2022-08-16T15:16:49.594395Z",
     "iopub.status.busy": "2022-08-16T15:16:49.593622Z",
     "iopub.status.idle": "2022-08-16T15:16:49.596446Z",
     "shell.execute_reply": "2022-08-16T15:16:49.596858Z",
     "shell.execute_reply.started": "2022-08-16T15:07:22.575944Z"
    },
    "papermill": {
     "duration": 0.091759,
     "end_time": "2022-08-16T15:16:49.596972",
     "exception": false,
     "start_time": "2022-08-16T15:16:49.505213",
     "status": "completed"
    },
    "tags": []
   },
   "outputs": [
    {
     "data": {
      "text/plain": [
       "['reconstruct subject specific effect map  predictive model allow subject specific inference analyze disease relate alteration neuroimage datum give subject data inference level global identifiye condition presence subject local detect condition effect individual measurement extract subject datum global inference widely local inference form subject specific effect map rarely exist model yield noisy detection compose disperse isolate island article propose reconstruction method name rsm improve subject specific detection predictive modeling approach particular binary classifier rsm specifically aim reduce noise sampling error associate finite sample example train classifier propose method wrapper type algorithm different binary classifier diagnostic manner information condition presence reconstruction pose maximum posteriori problem prior model parameter estimate train datum classifier specific fashion experimental evaluation perform synthetically generate datum datum alzheimer disease neuroimaging initiative adni database result synthetic datum demonstrate rsm yield high detection accuracy compare model directly bootstrap averaging analyses adni dataset rsm improve correlation subject specific detection cortical thickness datum non imaging marker alzheimer disease ad  mini mental state examination score cerebrospinal fluid amyloid  beta level reliability study longitudinal adni dataset improvement detection reliability rsm']"
      ]
     },
     "execution_count": 33,
     "metadata": {},
     "output_type": "execute_result"
    }
   ],
   "source": [
    "# Converting all texts to lowercase\n",
    "for i in range(len(cleaned_text)):\n",
    "    cleaned_text[i]=cleaned_text[i].lower()\n",
    "    \n",
    "cleaned_text[:1]"
   ]
  },
  {
   "cell_type": "markdown",
   "metadata": {
    "papermill": {
     "duration": 0.069544,
     "end_time": "2022-08-16T15:16:49.736782",
     "exception": false,
     "start_time": "2022-08-16T15:16:49.667238",
     "status": "completed"
    },
    "tags": []
   },
   "source": [
    "To create the vocabulary, we will join all the texts."
   ]
  },
  {
   "cell_type": "code",
   "execution_count": 34,
   "metadata": {
    "execution": {
     "iopub.execute_input": "2022-08-16T15:16:50.232008Z",
     "iopub.status.busy": "2022-08-16T15:16:49.892455Z",
     "iopub.status.idle": "2022-08-16T15:16:50.236127Z",
     "shell.execute_reply": "2022-08-16T15:16:50.235254Z",
     "shell.execute_reply.started": "2022-08-16T15:07:22.931221Z"
    },
    "papermill": {
     "duration": 0.430415,
     "end_time": "2022-08-16T15:16:50.236233",
     "exception": false,
     "start_time": "2022-08-16T15:16:49.805818",
     "status": "completed"
    },
    "tags": []
   },
   "outputs": [
    {
     "data": {
      "text/plain": [
       "45593"
      ]
     },
     "execution_count": 34,
     "metadata": {},
     "output_type": "execute_result"
    }
   ],
   "source": [
    "vocabulary=\" \".join(cleaned_text)\n",
    "x=set(vocabulary.split())\n",
    "len(x)"
   ]
  },
  {
   "cell_type": "code",
   "execution_count": 35,
   "metadata": {
    "execution": {
     "iopub.execute_input": "2022-08-16T15:16:50.391285Z",
     "iopub.status.busy": "2022-08-16T15:16:50.390656Z",
     "iopub.status.idle": "2022-08-16T15:16:50.396922Z",
     "shell.execute_reply": "2022-08-16T15:16:50.396495Z",
     "shell.execute_reply.started": "2022-08-16T15:07:23.335000Z"
    },
    "papermill": {
     "duration": 0.090202,
     "end_time": "2022-08-16T15:16:50.397023",
     "exception": false,
     "start_time": "2022-08-16T15:16:50.306821",
     "status": "completed"
    },
    "tags": []
   },
   "outputs": [
    {
     "data": {
      "text/html": [
       "<div>\n",
       "<style scoped>\n",
       "    .dataframe tbody tr th:only-of-type {\n",
       "        vertical-align: middle;\n",
       "    }\n",
       "\n",
       "    .dataframe tbody tr th {\n",
       "        vertical-align: top;\n",
       "    }\n",
       "\n",
       "    .dataframe thead th {\n",
       "        text-align: right;\n",
       "    }\n",
       "</style>\n",
       "<table border=\"1\" class=\"dataframe\">\n",
       "  <thead>\n",
       "    <tr style=\"text-align: right;\">\n",
       "      <th></th>\n",
       "      <th>ID</th>\n",
       "      <th>Computer Science</th>\n",
       "      <th>Physics</th>\n",
       "      <th>Mathematics</th>\n",
       "      <th>Statistics</th>\n",
       "      <th>Quantitative Biology</th>\n",
       "      <th>Quantitative Finance</th>\n",
       "      <th>text</th>\n",
       "    </tr>\n",
       "  </thead>\n",
       "  <tbody>\n",
       "    <tr>\n",
       "      <th>0</th>\n",
       "      <td>1</td>\n",
       "      <td>1</td>\n",
       "      <td>0</td>\n",
       "      <td>0</td>\n",
       "      <td>0</td>\n",
       "      <td>0</td>\n",
       "      <td>0</td>\n",
       "      <td>Reconstructing Subject-Specific Effect Maps   ...</td>\n",
       "    </tr>\n",
       "    <tr>\n",
       "      <th>1</th>\n",
       "      <td>2</td>\n",
       "      <td>1</td>\n",
       "      <td>0</td>\n",
       "      <td>0</td>\n",
       "      <td>0</td>\n",
       "      <td>0</td>\n",
       "      <td>0</td>\n",
       "      <td>Rotation Invariance Neural Network   Rotation ...</td>\n",
       "    </tr>\n",
       "    <tr>\n",
       "      <th>2</th>\n",
       "      <td>3</td>\n",
       "      <td>0</td>\n",
       "      <td>0</td>\n",
       "      <td>1</td>\n",
       "      <td>0</td>\n",
       "      <td>0</td>\n",
       "      <td>0</td>\n",
       "      <td>Spherical polyharmonics and Poisson kernels fo...</td>\n",
       "    </tr>\n",
       "    <tr>\n",
       "      <th>3</th>\n",
       "      <td>4</td>\n",
       "      <td>0</td>\n",
       "      <td>0</td>\n",
       "      <td>1</td>\n",
       "      <td>0</td>\n",
       "      <td>0</td>\n",
       "      <td>0</td>\n",
       "      <td>A finite element approximation for the stochas...</td>\n",
       "    </tr>\n",
       "    <tr>\n",
       "      <th>4</th>\n",
       "      <td>5</td>\n",
       "      <td>1</td>\n",
       "      <td>0</td>\n",
       "      <td>0</td>\n",
       "      <td>1</td>\n",
       "      <td>0</td>\n",
       "      <td>0</td>\n",
       "      <td>Comparative study of Discrete Wavelet Transfor...</td>\n",
       "    </tr>\n",
       "  </tbody>\n",
       "</table>\n",
       "</div>"
      ],
      "text/plain": [
       "   ID  Computer Science  Physics  Mathematics  Statistics  \\\n",
       "0   1                 1        0            0           0   \n",
       "1   2                 1        0            0           0   \n",
       "2   3                 0        0            1           0   \n",
       "3   4                 0        0            1           0   \n",
       "4   5                 1        0            0           1   \n",
       "\n",
       "   Quantitative Biology  Quantitative Finance  \\\n",
       "0                     0                     0   \n",
       "1                     0                     0   \n",
       "2                     0                     0   \n",
       "3                     0                     0   \n",
       "4                     0                     0   \n",
       "\n",
       "                                                text  \n",
       "0  Reconstructing Subject-Specific Effect Maps   ...  \n",
       "1  Rotation Invariance Neural Network   Rotation ...  \n",
       "2  Spherical polyharmonics and Poisson kernels fo...  \n",
       "3  A finite element approximation for the stochas...  \n",
       "4  Comparative study of Discrete Wavelet Transfor...  "
      ]
     },
     "execution_count": 35,
     "metadata": {},
     "output_type": "execute_result"
    }
   ],
   "source": [
    "train_df.head()"
   ]
  },
  {
   "cell_type": "markdown",
   "metadata": {
    "papermill": {
     "duration": 0.071724,
     "end_time": "2022-08-16T15:16:50.539165",
     "exception": false,
     "start_time": "2022-08-16T15:16:50.467441",
     "status": "completed"
    },
    "tags": []
   },
   "source": [
    "There are total 45593 unique words in all the articles and only those we will use into our model."
   ]
  },
  {
   "cell_type": "code",
   "execution_count": 36,
   "metadata": {
    "execution": {
     "iopub.execute_input": "2022-08-16T15:16:50.692871Z",
     "iopub.status.busy": "2022-08-16T15:16:50.692132Z",
     "iopub.status.idle": "2022-08-16T15:16:50.697145Z",
     "shell.execute_reply": "2022-08-16T15:16:50.696737Z",
     "shell.execute_reply.started": "2022-08-16T15:08:26.848057Z"
    },
    "papermill": {
     "duration": 0.087955,
     "end_time": "2022-08-16T15:16:50.697241",
     "exception": false,
     "start_time": "2022-08-16T15:16:50.609286",
     "status": "completed"
    },
    "tags": []
   },
   "outputs": [
    {
     "data": {
      "text/html": [
       "<div>\n",
       "<style scoped>\n",
       "    .dataframe tbody tr th:only-of-type {\n",
       "        vertical-align: middle;\n",
       "    }\n",
       "\n",
       "    .dataframe tbody tr th {\n",
       "        vertical-align: top;\n",
       "    }\n",
       "\n",
       "    .dataframe thead th {\n",
       "        text-align: right;\n",
       "    }\n",
       "</style>\n",
       "<table border=\"1\" class=\"dataframe\">\n",
       "  <thead>\n",
       "    <tr style=\"text-align: right;\">\n",
       "      <th></th>\n",
       "      <th>ID</th>\n",
       "      <th>Computer Science</th>\n",
       "      <th>Physics</th>\n",
       "      <th>Mathematics</th>\n",
       "      <th>Statistics</th>\n",
       "      <th>Quantitative Biology</th>\n",
       "      <th>Quantitative Finance</th>\n",
       "      <th>text</th>\n",
       "      <th>cleaned_text</th>\n",
       "    </tr>\n",
       "  </thead>\n",
       "  <tbody>\n",
       "    <tr>\n",
       "      <th>0</th>\n",
       "      <td>1</td>\n",
       "      <td>1</td>\n",
       "      <td>0</td>\n",
       "      <td>0</td>\n",
       "      <td>0</td>\n",
       "      <td>0</td>\n",
       "      <td>0</td>\n",
       "      <td>Reconstructing Subject-Specific Effect Maps   ...</td>\n",
       "      <td>reconstruct subject specific effect map  predi...</td>\n",
       "    </tr>\n",
       "    <tr>\n",
       "      <th>1</th>\n",
       "      <td>2</td>\n",
       "      <td>1</td>\n",
       "      <td>0</td>\n",
       "      <td>0</td>\n",
       "      <td>0</td>\n",
       "      <td>0</td>\n",
       "      <td>0</td>\n",
       "      <td>Rotation Invariance Neural Network   Rotation ...</td>\n",
       "      <td>rotation invariance neural network  rotation i...</td>\n",
       "    </tr>\n",
       "    <tr>\n",
       "      <th>2</th>\n",
       "      <td>3</td>\n",
       "      <td>0</td>\n",
       "      <td>0</td>\n",
       "      <td>1</td>\n",
       "      <td>0</td>\n",
       "      <td>0</td>\n",
       "      <td>0</td>\n",
       "      <td>Spherical polyharmonics and Poisson kernels fo...</td>\n",
       "      <td>spherical polyharmonic poisson kernel polyharm...</td>\n",
       "    </tr>\n",
       "    <tr>\n",
       "      <th>3</th>\n",
       "      <td>4</td>\n",
       "      <td>0</td>\n",
       "      <td>0</td>\n",
       "      <td>1</td>\n",
       "      <td>0</td>\n",
       "      <td>0</td>\n",
       "      <td>0</td>\n",
       "      <td>A finite element approximation for the stochas...</td>\n",
       "      <td>finite element approximation stochastic maxwel...</td>\n",
       "    </tr>\n",
       "    <tr>\n",
       "      <th>4</th>\n",
       "      <td>5</td>\n",
       "      <td>1</td>\n",
       "      <td>0</td>\n",
       "      <td>0</td>\n",
       "      <td>1</td>\n",
       "      <td>0</td>\n",
       "      <td>0</td>\n",
       "      <td>Comparative study of Discrete Wavelet Transfor...</td>\n",
       "      <td>comparative study discrete wavelet transforms ...</td>\n",
       "    </tr>\n",
       "  </tbody>\n",
       "</table>\n",
       "</div>"
      ],
      "text/plain": [
       "   ID  Computer Science  Physics  Mathematics  Statistics  \\\n",
       "0   1                 1        0            0           0   \n",
       "1   2                 1        0            0           0   \n",
       "2   3                 0        0            1           0   \n",
       "3   4                 0        0            1           0   \n",
       "4   5                 1        0            0           1   \n",
       "\n",
       "   Quantitative Biology  Quantitative Finance  \\\n",
       "0                     0                     0   \n",
       "1                     0                     0   \n",
       "2                     0                     0   \n",
       "3                     0                     0   \n",
       "4                     0                     0   \n",
       "\n",
       "                                                text  \\\n",
       "0  Reconstructing Subject-Specific Effect Maps   ...   \n",
       "1  Rotation Invariance Neural Network   Rotation ...   \n",
       "2  Spherical polyharmonics and Poisson kernels fo...   \n",
       "3  A finite element approximation for the stochas...   \n",
       "4  Comparative study of Discrete Wavelet Transfor...   \n",
       "\n",
       "                                        cleaned_text  \n",
       "0  reconstruct subject specific effect map  predi...  \n",
       "1  rotation invariance neural network  rotation i...  \n",
       "2  spherical polyharmonic poisson kernel polyharm...  \n",
       "3  finite element approximation stochastic maxwel...  \n",
       "4  comparative study discrete wavelet transforms ...  "
      ]
     },
     "execution_count": 36,
     "metadata": {},
     "output_type": "execute_result"
    }
   ],
   "source": [
    "train_df['cleaned_text']=cleaned_text\n",
    "train_df.head()"
   ]
  },
  {
   "cell_type": "code",
   "execution_count": 37,
   "metadata": {
    "execution": {
     "iopub.execute_input": "2022-08-16T15:16:50.855897Z",
     "iopub.status.busy": "2022-08-16T15:16:50.855312Z",
     "iopub.status.idle": "2022-08-16T15:16:50.860465Z",
     "shell.execute_reply": "2022-08-16T15:16:50.859982Z",
     "shell.execute_reply.started": "2022-08-16T15:08:27.101734Z"
    },
    "papermill": {
     "duration": 0.092878,
     "end_time": "2022-08-16T15:16:50.860565",
     "exception": false,
     "start_time": "2022-08-16T15:16:50.767687",
     "status": "completed"
    },
    "tags": []
   },
   "outputs": [
    {
     "data": {
      "text/plain": [
       "'reconstruct subject specific effect map  predictive model allow subject specific inference analyze disease relate alteration neuroimage datum give subject data inference level global identifiye condition presence subject local detect condition effect individual measurement extract subject datum global inference widely local inference form subject specific effect map rarely exist model yield noisy detection compose disperse isolate island article propose reconstruction method name rsm improve subject specific detection predictive modeling approach particular binary classifier rsm specifically aim reduce noise sampling error associate finite sample example train classifier propose method wrapper type algorithm different binary classifier diagnostic manner information condition presence reconstruction pose maximum posteriori problem prior model parameter estimate train datum classifier specific fashion experimental evaluation perform synthetically generate datum datum alzheimer disease neuroimaging initiative adni database result synthetic datum demonstrate rsm yield high detection accuracy compare model directly bootstrap averaging analyses adni dataset rsm improve correlation subject specific detection cortical thickness datum non imaging marker alzheimer disease ad  mini mental state examination score cerebrospinal fluid amyloid  beta level reliability study longitudinal adni dataset improvement detection reliability rsm'"
      ]
     },
     "execution_count": 37,
     "metadata": {},
     "output_type": "execute_result"
    }
   ],
   "source": [
    "train_df.cleaned_text[0]"
   ]
  },
  {
   "cell_type": "code",
   "execution_count": 38,
   "metadata": {
    "execution": {
     "iopub.execute_input": "2022-08-16T15:16:51.037565Z",
     "iopub.status.busy": "2022-08-16T15:16:51.036770Z",
     "iopub.status.idle": "2022-08-16T15:16:51.051433Z",
     "shell.execute_reply": "2022-08-16T15:16:51.052044Z",
     "shell.execute_reply.started": "2022-08-16T15:08:27.326675Z"
    },
    "papermill": {
     "duration": 0.119676,
     "end_time": "2022-08-16T15:16:51.052228",
     "exception": false,
     "start_time": "2022-08-16T15:16:50.932552",
     "status": "completed"
    },
    "tags": []
   },
   "outputs": [],
   "source": [
    "X_train,X_test,y_train,y_test=split(train_df.loc[:,\"cleaned_text\"],train_df.loc[:,categories],0.2)"
   ]
  },
  {
   "cell_type": "code",
   "execution_count": 39,
   "metadata": {
    "execution": {
     "iopub.execute_input": "2022-08-16T15:16:51.304601Z",
     "iopub.status.busy": "2022-08-16T15:16:51.303649Z",
     "iopub.status.idle": "2022-08-16T15:16:51.308712Z",
     "shell.execute_reply": "2022-08-16T15:16:51.309245Z",
     "shell.execute_reply.started": "2022-08-16T15:08:27.586433Z"
    },
    "papermill": {
     "duration": 0.121923,
     "end_time": "2022-08-16T15:16:51.309439",
     "exception": false,
     "start_time": "2022-08-16T15:16:51.187516",
     "status": "completed"
    },
    "tags": []
   },
   "outputs": [
    {
     "data": {
      "text/plain": [
       "((16777,), (4195,), (16777, 6), (4195, 6))"
      ]
     },
     "execution_count": 39,
     "metadata": {},
     "output_type": "execute_result"
    }
   ],
   "source": [
    "X_train.shape,X_test.shape,y_train.shape,y_test.shape"
   ]
  },
  {
   "cell_type": "markdown",
   "metadata": {
    "papermill": {
     "duration": 0.108224,
     "end_time": "2022-08-16T15:16:51.529168",
     "exception": false,
     "start_time": "2022-08-16T15:16:51.420944",
     "status": "completed"
    },
    "tags": []
   },
   "source": [
    "Now our text is cleaned, we will apply Tfidf on text data to change into a matrix of numericals."
   ]
  },
  {
   "cell_type": "markdown",
   "metadata": {
    "papermill": {
     "duration": 0.112378,
     "end_time": "2022-08-16T15:16:51.764479",
     "exception": false,
     "start_time": "2022-08-16T15:16:51.652101",
     "status": "completed"
    },
    "tags": []
   },
   "source": [
    "# **Changing text into numericals using Tfidf technique**"
   ]
  },
  {
   "cell_type": "code",
   "execution_count": 40,
   "metadata": {
    "execution": {
     "iopub.execute_input": "2022-08-16T15:16:51.999671Z",
     "iopub.status.busy": "2022-08-16T15:16:51.998337Z",
     "iopub.status.idle": "2022-08-16T15:16:52.000367Z",
     "shell.execute_reply": "2022-08-16T15:16:51.998988Z",
     "shell.execute_reply.started": "2022-08-16T15:08:28.851644Z"
    },
    "papermill": {
     "duration": 0.123631,
     "end_time": "2022-08-16T15:16:52.000494",
     "exception": false,
     "start_time": "2022-08-16T15:16:51.876863",
     "status": "completed"
    },
    "tags": []
   },
   "outputs": [],
   "source": [
    "from sklearn.feature_extraction.text import TfidfTransformer\n",
    "from sklearn.feature_extraction.text import TfidfVectorizer"
   ]
  },
  {
   "cell_type": "code",
   "execution_count": 41,
   "metadata": {
    "execution": {
     "iopub.execute_input": "2022-08-16T15:16:52.234669Z",
     "iopub.status.busy": "2022-08-16T15:16:52.231921Z",
     "iopub.status.idle": "2022-08-16T15:16:52.236007Z",
     "shell.execute_reply": "2022-08-16T15:16:52.235419Z",
     "shell.execute_reply.started": "2022-08-16T15:08:29.366507Z"
    },
    "papermill": {
     "duration": 0.123469,
     "end_time": "2022-08-16T15:16:52.236132",
     "exception": false,
     "start_time": "2022-08-16T15:16:52.112663",
     "status": "completed"
    },
    "tags": []
   },
   "outputs": [],
   "source": [
    "tfv=TfidfVectorizer(min_df=3,max_features=30000,strip_accents=\"unicode\",analyzer=\"word\",token_pattern=r\"\\w{1,}\",ngram_range=(1,3),use_idf=1,smooth_idf=1,sublinear_tf=1,stop_words=\"english\")"
   ]
  },
  {
   "cell_type": "code",
   "execution_count": 42,
   "metadata": {
    "execution": {
     "iopub.execute_input": "2022-08-16T15:16:52.454435Z",
     "iopub.status.busy": "2022-08-16T15:16:52.444278Z",
     "iopub.status.idle": "2022-08-16T15:17:14.516757Z",
     "shell.execute_reply": "2022-08-16T15:17:14.516193Z",
     "shell.execute_reply.started": "2022-08-16T15:08:29.536482Z"
    },
    "papermill": {
     "duration": 22.168451,
     "end_time": "2022-08-16T15:17:14.516875",
     "exception": false,
     "start_time": "2022-08-16T15:16:52.348424",
     "status": "completed"
    },
    "tags": []
   },
   "outputs": [],
   "source": [
    "tfv.fit(list(X_train)+list(X_test))\n",
    "xtrain_tfv=tfv.transform(X_train)\n",
    "xtest=tfv.transform(X_test)"
   ]
  },
  {
   "cell_type": "code",
   "execution_count": 43,
   "metadata": {
    "execution": {
     "iopub.execute_input": "2022-08-16T15:17:14.664051Z",
     "iopub.status.busy": "2022-08-16T15:17:14.663256Z",
     "iopub.status.idle": "2022-08-16T15:17:14.666517Z",
     "shell.execute_reply": "2022-08-16T15:17:14.666938Z",
     "shell.execute_reply.started": "2022-08-16T15:08:54.984605Z"
    },
    "papermill": {
     "duration": 0.079062,
     "end_time": "2022-08-16T15:17:14.667057",
     "exception": false,
     "start_time": "2022-08-16T15:17:14.587995",
     "status": "completed"
    },
    "tags": []
   },
   "outputs": [
    {
     "data": {
      "text/plain": [
       "(16777, 30000)"
      ]
     },
     "execution_count": 43,
     "metadata": {},
     "output_type": "execute_result"
    }
   ],
   "source": [
    "xtrain_tfv.shape"
   ]
  },
  {
   "cell_type": "markdown",
   "metadata": {
    "papermill": {
     "duration": 0.07682,
     "end_time": "2022-08-16T15:17:14.815976",
     "exception": false,
     "start_time": "2022-08-16T15:17:14.739156",
     "status": "completed"
    },
    "tags": []
   },
   "source": [
    "Target columns has 6 columns , so lets change into one columns which will have all 6 different categories."
   ]
  },
  {
   "cell_type": "code",
   "execution_count": 44,
   "metadata": {
    "execution": {
     "iopub.execute_input": "2022-08-16T15:17:14.971464Z",
     "iopub.status.busy": "2022-08-16T15:17:14.970693Z",
     "iopub.status.idle": "2022-08-16T15:17:14.999532Z",
     "shell.execute_reply": "2022-08-16T15:17:14.999069Z",
     "shell.execute_reply.started": "2022-08-16T15:08:54.993719Z"
    },
    "papermill": {
     "duration": 0.106217,
     "end_time": "2022-08-16T15:17:14.999638",
     "exception": false,
     "start_time": "2022-08-16T15:17:14.893421",
     "status": "completed"
    },
    "tags": []
   },
   "outputs": [],
   "source": [
    "y_train_new=y_train.idxmax(axis=1)\n",
    "y_test_new=y_test.idxmax(axis=1)"
   ]
  },
  {
   "cell_type": "code",
   "execution_count": 45,
   "metadata": {
    "execution": {
     "iopub.execute_input": "2022-08-16T15:17:15.149021Z",
     "iopub.status.busy": "2022-08-16T15:17:15.148259Z",
     "iopub.status.idle": "2022-08-16T15:17:15.153889Z",
     "shell.execute_reply": "2022-08-16T15:17:15.153353Z",
     "shell.execute_reply.started": "2022-08-16T15:08:55.034889Z"
    },
    "papermill": {
     "duration": 0.081831,
     "end_time": "2022-08-16T15:17:15.153991",
     "exception": false,
     "start_time": "2022-08-16T15:17:15.072160",
     "status": "completed"
    },
    "tags": []
   },
   "outputs": [
    {
     "data": {
      "text/plain": [
       "(6, 6)"
      ]
     },
     "execution_count": 45,
     "metadata": {},
     "output_type": "execute_result"
    }
   ],
   "source": [
    "y_train_new.nunique(), y_test_new.nunique()"
   ]
  },
  {
   "cell_type": "markdown",
   "metadata": {
    "papermill": {
     "duration": 0.072071,
     "end_time": "2022-08-16T15:17:15.298067",
     "exception": false,
     "start_time": "2022-08-16T15:17:15.225996",
     "status": "completed"
    },
    "tags": []
   },
   "source": [
    "**Lest apply a simple LogisticRegression model to classify.**"
   ]
  },
  {
   "cell_type": "code",
   "execution_count": 46,
   "metadata": {
    "execution": {
     "iopub.execute_input": "2022-08-16T15:17:15.447395Z",
     "iopub.status.busy": "2022-08-16T15:17:15.446610Z",
     "iopub.status.idle": "2022-08-16T15:17:16.805652Z",
     "shell.execute_reply": "2022-08-16T15:17:16.805181Z",
     "shell.execute_reply.started": "2022-08-16T15:08:55.050620Z"
    },
    "papermill": {
     "duration": 1.435863,
     "end_time": "2022-08-16T15:17:16.805764",
     "exception": false,
     "start_time": "2022-08-16T15:17:15.369901",
     "status": "completed"
    },
    "tags": []
   },
   "outputs": [
    {
     "data": {
      "text/plain": [
       "LogisticRegression(solver='sag')"
      ]
     },
     "execution_count": 46,
     "metadata": {},
     "output_type": "execute_result"
    }
   ],
   "source": [
    "from sklearn.linear_model import LogisticRegression\n",
    "clf=LogisticRegression(C=1.0,solver=\"sag\")\n",
    "clf.fit(xtrain_tfv,y_train_new)"
   ]
  },
  {
   "cell_type": "markdown",
   "metadata": {
    "papermill": {
     "duration": 0.073186,
     "end_time": "2022-08-16T15:17:16.953751",
     "exception": false,
     "start_time": "2022-08-16T15:17:16.880565",
     "status": "completed"
    },
    "tags": []
   },
   "source": [
    "Apply grid search to optimize the hyperparameters."
   ]
  },
  {
   "cell_type": "code",
   "execution_count": 47,
   "metadata": {
    "execution": {
     "iopub.execute_input": "2022-08-16T15:17:17.103699Z",
     "iopub.status.busy": "2022-08-16T15:17:17.102811Z",
     "iopub.status.idle": "2022-08-16T15:17:17.104975Z",
     "shell.execute_reply": "2022-08-16T15:17:17.105381Z",
     "shell.execute_reply.started": "2022-08-16T15:08:56.478603Z"
    },
    "papermill": {
     "duration": 0.078358,
     "end_time": "2022-08-16T15:17:17.105505",
     "exception": false,
     "start_time": "2022-08-16T15:17:17.027147",
     "status": "completed"
    },
    "tags": []
   },
   "outputs": [],
   "source": [
    "# from sklearn.model_selection import GridSearchCV\n",
    "# params={\n",
    "#     'C':[0.1,0.3,0.5,0.8,1],\n",
    "#     'solver':['newton-cg', 'lbfgs', 'liblinear', 'sag', 'saga'],\n",
    "#     'penalty':['l1', 'l2', 'elasticnet', 'none']\n",
    "# }\n",
    "# gs_knn = GridSearchCV(LogisticRegression(),\n",
    "#                       param_grid=params,\n",
    "#                       scoring='accuracy',\n",
    "#                       cv=5)\n",
    "\n",
    "# gs_model = gs_knn.fit(X_train_vect_avg, y_train.values.ravel())"
   ]
  },
  {
   "cell_type": "code",
   "execution_count": 48,
   "metadata": {
    "execution": {
     "iopub.execute_input": "2022-08-16T15:17:17.253002Z",
     "iopub.status.busy": "2022-08-16T15:17:17.252455Z",
     "iopub.status.idle": "2022-08-16T15:17:17.256342Z",
     "shell.execute_reply": "2022-08-16T15:17:17.255914Z",
     "shell.execute_reply.started": "2022-08-16T15:08:56.485358Z"
    },
    "papermill": {
     "duration": 0.078841,
     "end_time": "2022-08-16T15:17:17.256492",
     "exception": false,
     "start_time": "2022-08-16T15:17:17.177651",
     "status": "completed"
    },
    "tags": []
   },
   "outputs": [],
   "source": [
    "#gs_model.best_params_"
   ]
  },
  {
   "cell_type": "code",
   "execution_count": 49,
   "metadata": {
    "execution": {
     "iopub.execute_input": "2022-08-16T15:17:17.407231Z",
     "iopub.status.busy": "2022-08-16T15:17:17.406479Z",
     "iopub.status.idle": "2022-08-16T15:17:18.310312Z",
     "shell.execute_reply": "2022-08-16T15:17:18.309856Z",
     "shell.execute_reply.started": "2022-08-16T15:08:56.498013Z"
    },
    "papermill": {
     "duration": 0.981212,
     "end_time": "2022-08-16T15:17:18.310448",
     "exception": false,
     "start_time": "2022-08-16T15:17:17.329236",
     "status": "completed"
    },
    "tags": []
   },
   "outputs": [
    {
     "data": {
      "text/plain": [
       "LogisticRegression(C=0.3, solver='sag')"
      ]
     },
     "execution_count": 49,
     "metadata": {},
     "output_type": "execute_result"
    }
   ],
   "source": [
    "from sklearn.linear_model import LogisticRegression\n",
    "clf=LogisticRegression(C=0.3,solver=\"sag\")\n",
    "clf.fit(xtrain_tfv,y_train_new)"
   ]
  },
  {
   "cell_type": "code",
   "execution_count": 50,
   "metadata": {
    "execution": {
     "iopub.execute_input": "2022-08-16T15:17:18.459861Z",
     "iopub.status.busy": "2022-08-16T15:17:18.459081Z",
     "iopub.status.idle": "2022-08-16T15:17:18.480353Z",
     "shell.execute_reply": "2022-08-16T15:17:18.480796Z",
     "shell.execute_reply.started": "2022-08-16T15:08:57.748663Z"
    },
    "papermill": {
     "duration": 0.09791,
     "end_time": "2022-08-16T15:17:18.480917",
     "exception": false,
     "start_time": "2022-08-16T15:17:18.383007",
     "status": "completed"
    },
    "tags": []
   },
   "outputs": [
    {
     "data": {
      "text/plain": [
       "array(['Computer Science', 'Mathematics', 'Computer Science', ...,\n",
       "       'Physics', 'Computer Science', 'Computer Science'], dtype=object)"
      ]
     },
     "execution_count": 50,
     "metadata": {},
     "output_type": "execute_result"
    }
   ],
   "source": [
    "train_preds=clf.predict(xtrain_tfv)\n",
    "test_preds=clf.predict(xtest)\n",
    "train_preds"
   ]
  },
  {
   "cell_type": "markdown",
   "metadata": {
    "papermill": {
     "duration": 0.072937,
     "end_time": "2022-08-16T15:17:18.627532",
     "exception": false,
     "start_time": "2022-08-16T15:17:18.554595",
     "status": "completed"
    },
    "tags": []
   },
   "source": [
    "**Accuracy metric**"
   ]
  },
  {
   "cell_type": "markdown",
   "metadata": {
    "papermill": {
     "duration": 0.072031,
     "end_time": "2022-08-16T15:17:18.772476",
     "exception": false,
     "start_time": "2022-08-16T15:17:18.700445",
     "status": "completed"
    },
    "tags": []
   },
   "source": [
    "Our dataset is imbalanced and all the classes are equally important, so for this case macro average f1 score would be the best, and the confusion matric would give the overall good picture of every class's prediction."
   ]
  },
  {
   "cell_type": "code",
   "execution_count": 51,
   "metadata": {
    "execution": {
     "iopub.execute_input": "2022-08-16T15:17:18.921598Z",
     "iopub.status.busy": "2022-08-16T15:17:18.921024Z",
     "iopub.status.idle": "2022-08-16T15:17:18.925258Z",
     "shell.execute_reply": "2022-08-16T15:17:18.924851Z",
     "shell.execute_reply.started": "2022-08-16T15:08:57.777911Z"
    },
    "papermill": {
     "duration": 0.080172,
     "end_time": "2022-08-16T15:17:18.925386",
     "exception": false,
     "start_time": "2022-08-16T15:17:18.845214",
     "status": "completed"
    },
    "tags": []
   },
   "outputs": [],
   "source": [
    "from sklearn.metrics import accuracy_score\n",
    "from sklearn.metrics import f1_score"
   ]
  },
  {
   "cell_type": "code",
   "execution_count": 52,
   "metadata": {
    "execution": {
     "iopub.execute_input": "2022-08-16T15:17:19.075328Z",
     "iopub.status.busy": "2022-08-16T15:17:19.074532Z",
     "iopub.status.idle": "2022-08-16T15:17:19.204475Z",
     "shell.execute_reply": "2022-08-16T15:17:19.205079Z",
     "shell.execute_reply.started": "2022-08-16T15:08:57.786090Z"
    },
    "papermill": {
     "duration": 0.207321,
     "end_time": "2022-08-16T15:17:19.205255",
     "exception": false,
     "start_time": "2022-08-16T15:17:18.997934",
     "status": "completed"
    },
    "tags": []
   },
   "outputs": [
    {
     "name": "stdout",
     "output_type": "stream",
     "text": [
      "train 0.4889566947955453\n",
      "test 0.45576516208472745\n"
     ]
    }
   ],
   "source": [
    "print(\"train\",f1_score(y_train_new,clf.predict(xtrain_tfv),average='macro'))\n",
    "print(\"test\",f1_score(y_test_new,clf.predict(xtest),average=\"macro\"))"
   ]
  },
  {
   "cell_type": "code",
   "execution_count": 53,
   "metadata": {
    "execution": {
     "iopub.execute_input": "2022-08-16T15:17:19.358422Z",
     "iopub.status.busy": "2022-08-16T15:17:19.357714Z",
     "iopub.status.idle": "2022-08-16T15:17:19.360562Z",
     "shell.execute_reply": "2022-08-16T15:17:19.360939Z",
     "shell.execute_reply.started": "2022-08-16T15:08:57.939447Z"
    },
    "papermill": {
     "duration": 0.081182,
     "end_time": "2022-08-16T15:17:19.361061",
     "exception": false,
     "start_time": "2022-08-16T15:17:19.279879",
     "status": "completed"
    },
    "tags": []
   },
   "outputs": [],
   "source": [
    "from sklearn.metrics import confusion_matrix"
   ]
  },
  {
   "cell_type": "code",
   "execution_count": 54,
   "metadata": {
    "execution": {
     "iopub.execute_input": "2022-08-16T15:17:19.512090Z",
     "iopub.status.busy": "2022-08-16T15:17:19.511244Z",
     "iopub.status.idle": "2022-08-16T15:17:19.549837Z",
     "shell.execute_reply": "2022-08-16T15:17:19.550478Z",
     "shell.execute_reply.started": "2022-08-16T15:08:57.947578Z"
    },
    "papermill": {
     "duration": 0.116484,
     "end_time": "2022-08-16T15:17:19.550652",
     "exception": false,
     "start_time": "2022-08-16T15:17:19.434168",
     "status": "completed"
    },
    "tags": []
   },
   "outputs": [
    {
     "name": "stdout",
     "output_type": "stream",
     "text": [
      "train_accuracy 0.8333432675686953\n",
      "test_accuracy 0.799046483909416\n"
     ]
    }
   ],
   "source": [
    "print(\"train_accuracy\",accuracy_score(y_train_new,clf.predict(xtrain_tfv)))\n",
    "print(\"test_accuracy\",accuracy_score(y_test_new,clf.predict(xtest)))"
   ]
  },
  {
   "cell_type": "code",
   "execution_count": 55,
   "metadata": {
    "execution": {
     "iopub.execute_input": "2022-08-16T15:17:19.707220Z",
     "iopub.status.busy": "2022-08-16T15:17:19.706550Z",
     "iopub.status.idle": "2022-08-16T15:17:19.784219Z",
     "shell.execute_reply": "2022-08-16T15:17:19.783734Z",
     "shell.execute_reply.started": "2022-08-16T15:08:57.998017Z"
    },
    "papermill": {
     "duration": 0.158317,
     "end_time": "2022-08-16T15:17:19.784344",
     "exception": false,
     "start_time": "2022-08-16T15:17:19.626027",
     "status": "completed"
    },
    "tags": []
   },
   "outputs": [],
   "source": [
    "import seaborn as sns"
   ]
  },
  {
   "cell_type": "code",
   "execution_count": 56,
   "metadata": {
    "execution": {
     "iopub.execute_input": "2022-08-16T15:17:19.940611Z",
     "iopub.status.busy": "2022-08-16T15:17:19.939728Z",
     "iopub.status.idle": "2022-08-16T15:17:20.334273Z",
     "shell.execute_reply": "2022-08-16T15:17:20.334760Z",
     "shell.execute_reply.started": "2022-08-16T15:08:58.093255Z"
    },
    "papermill": {
     "duration": 0.476445,
     "end_time": "2022-08-16T15:17:20.334904",
     "exception": false,
     "start_time": "2022-08-16T15:17:19.858459",
     "status": "completed"
    },
    "tags": []
   },
   "outputs": [
    {
     "data": {
      "text/plain": [
       "Text(87.0, 0.5, 'Actual')"
      ]
     },
     "execution_count": 56,
     "metadata": {},
     "output_type": "execute_result"
    },
    {
     "data": {
      "image/png": "[encoded data removed]",
      "text/plain": [
       "<Figure size 864x864 with 2 Axes>"
      ]
     },
     "metadata": {
      "needs_background": "light"
     },
     "output_type": "display_data"
    }
   ],
   "source": [
    "c_matrix=confusion_matrix(y_train_new,clf.predict(xtrain_tfv))\n",
    "\n",
    "c_matrix=pd.DataFrame(c_matrix,columns=['Computer Science',\n",
    " 'Physics',\n",
    " 'Mathematics',\n",
    " 'Statistics',\n",
    " 'Quantitative Biology',\n",
    " 'Quantitative Finance'],index=['Computer Science',\n",
    " 'Physics',\n",
    " 'Mathematics',\n",
    " 'Statistics',\n",
    " 'Quantitative Biology',\n",
    " 'Quantitative Finance'])\n",
    "\n",
    "fig,ax=plt.subplots(figsize=(12,12))\n",
    "sns.set(font_scale=1.4)\n",
    "sns.heatmap(c_matrix/np.sum(c_matrix),fmt=\"0.2%\",annot=True,cmap=\"Blues\",ax=ax)\n",
    "ax.set_title(\"Confusion matrix \",fontsize=26)\n",
    "ax.set_xlabel(\"Predicted\",fontsize=26)\n",
    "ax.set_ylabel(\"Actual\",fontsize=26)"
   ]
  },
  {
   "cell_type": "code",
   "execution_count": 57,
   "metadata": {
    "execution": {
     "iopub.execute_input": "2022-08-16T15:17:20.493446Z",
     "iopub.status.busy": "2022-08-16T15:17:20.492685Z",
     "iopub.status.idle": "2022-08-16T15:17:20.872400Z",
     "shell.execute_reply": "2022-08-16T15:17:20.872835Z",
     "shell.execute_reply.started": "2022-08-16T15:08:58.576385Z"
    },
    "papermill": {
     "duration": 0.46177,
     "end_time": "2022-08-16T15:17:20.872964",
     "exception": false,
     "start_time": "2022-08-16T15:17:20.411194",
     "status": "completed"
    },
    "tags": []
   },
   "outputs": [
    {
     "data": {
      "text/plain": [
       "Text(79.49999999999999, 0.5, 'Actual')"
      ]
     },
     "execution_count": 57,
     "metadata": {},
     "output_type": "execute_result"
    },
    {
     "data": {
      "image/png": "[encoded data removed]",
      "text/plain": [
       "<Figure size 864x864 with 2 Axes>"
      ]
     },
     "metadata": {},
     "output_type": "display_data"
    }
   ],
   "source": [
    "c_matrix2=confusion_matrix(y_test_new,clf.predict(xtest))\n",
    "\n",
    "c_matrix2=pd.DataFrame(c_matrix,columns=['Computer Science',\n",
    " 'Physics',\n",
    " 'Mathematics',\n",
    " 'Statistics',\n",
    " 'Quantitative Biology',\n",
    " 'Quantitative Finance'],index=['Computer Science',\n",
    " 'Physics',\n",
    " 'Mathematics',\n",
    " 'Statistics',\n",
    " 'Quantitative Biology',\n",
    " 'Quantitative Finance'])\n",
    "\n",
    "fig,ax=plt.subplots(figsize=(12,12))\n",
    "sns.set(font_scale=1.4)\n",
    "sns.heatmap(c_matrix/np.sum(c_matrix),fmt=\"0.2%\",annot=True,cmap=\"Blues\",ax=ax)\n",
    "ax.set_title(\"Confusion matrix \",fontsize=26)\n",
    "ax.set_xlabel(\"Predicted\",fontsize=26)\n",
    "ax.set_ylabel(\"Actual\",fontsize=26)"
   ]
  },
  {
   "cell_type": "markdown",
   "metadata": {
    "papermill": {
     "duration": 0.078485,
     "end_time": "2022-08-16T15:17:21.030548",
     "exception": false,
     "start_time": "2022-08-16T15:17:20.952063",
     "status": "completed"
    },
    "tags": []
   },
   "source": [
    "We got 79.93 accuracy using logistic regression. and the macro average f1 score is 0.4557"
   ]
  },
  {
   "cell_type": "markdown",
   "metadata": {
    "papermill": {
     "duration": 0.077511,
     "end_time": "2022-08-16T15:17:21.187295",
     "exception": false,
     "start_time": "2022-08-16T15:17:21.109784",
     "status": "completed"
    },
    "tags": []
   },
   "source": [
    "# Changing words into vector using genism"
   ]
  },
  {
   "cell_type": "code",
   "execution_count": 58,
   "metadata": {
    "execution": {
     "iopub.execute_input": "2022-08-16T15:17:21.383489Z",
     "iopub.status.busy": "2022-08-16T15:17:21.378505Z",
     "iopub.status.idle": "2022-08-16T15:17:21.828360Z",
     "shell.execute_reply": "2022-08-16T15:17:21.827925Z",
     "shell.execute_reply.started": "2022-08-16T15:08:59.050768Z"
    },
    "papermill": {
     "duration": 0.563022,
     "end_time": "2022-08-16T15:17:21.828465",
     "exception": false,
     "start_time": "2022-08-16T15:17:21.265443",
     "status": "completed"
    },
    "tags": []
   },
   "outputs": [
    {
     "data": {
      "text/plain": [
       "[['spherical',\n",
       "  'polyharmonic',\n",
       "  'poisson',\n",
       "  'kernel',\n",
       "  'polyharmonic',\n",
       "  'function',\n",
       "  'introduce',\n",
       "  'develop',\n",
       "  'notion',\n",
       "  'spherical',\n",
       "  'polyharmonic',\n",
       "  'natural',\n",
       "  'generalisation',\n",
       "  'spherical',\n",
       "  'harmonic',\n",
       "  'particular',\n",
       "  'study',\n",
       "  'theory',\n",
       "  'zonal',\n",
       "  'polyharmonic',\n",
       "  'allow',\n",
       "  'analogously',\n",
       "  'zonal',\n",
       "  'harmonic',\n",
       "  'construct',\n",
       "  'poisson',\n",
       "  'kernel',\n",
       "  'polyharmonic',\n",
       "  'function',\n",
       "  'union',\n",
       "  'rotated',\n",
       "  'ball',\n",
       "  'find',\n",
       "  'representation',\n",
       "  'poisson',\n",
       "  'kernel',\n",
       "  'zonal',\n",
       "  'polyharmonic',\n",
       "  'term',\n",
       "  'gegenbauer',\n",
       "  'polynomial',\n",
       "  'connection',\n",
       "  'classical',\n",
       "  'poisson',\n",
       "  'kernel',\n",
       "  'harmonic',\n",
       "  'function',\n",
       "  'ball',\n",
       "  'poisson',\n",
       "  'kernel',\n",
       "  'polyharmonic',\n",
       "  'function',\n",
       "  'union',\n",
       "  'rotated',\n",
       "  'ball',\n",
       "  'cauchy',\n",
       "  'hua',\n",
       "  'kernel',\n",
       "  'holomorphic',\n",
       "  'function',\n",
       "  'lie',\n",
       "  'ball']]"
      ]
     },
     "execution_count": 58,
     "metadata": {},
     "output_type": "execute_result"
    }
   ],
   "source": [
    "# Tokenizing each sentense of cleaned_test\n",
    "cleaned_tokens=[]\n",
    "for sentance in cleaned_text:\n",
    "    s=sentance.split()\n",
    "    cleaned_tokens.append(s)\n",
    "    \n",
    "cleaned_tokens[2:3]"
   ]
  },
  {
   "cell_type": "code",
   "execution_count": 59,
   "metadata": {
    "execution": {
     "iopub.execute_input": "2022-08-16T15:17:21.991012Z",
     "iopub.status.busy": "2022-08-16T15:17:21.990229Z",
     "iopub.status.idle": "2022-08-16T15:17:26.255020Z",
     "shell.execute_reply": "2022-08-16T15:17:26.254285Z",
     "shell.execute_reply.started": "2022-08-16T15:08:59.579254Z"
    },
    "papermill": {
     "duration": 4.348079,
     "end_time": "2022-08-16T15:17:26.255126",
     "exception": false,
     "start_time": "2022-08-16T15:17:21.907047",
     "status": "completed"
    },
    "tags": []
   },
   "outputs": [
    {
     "data": {
      "text/html": [
       "<div>\n",
       "<style scoped>\n",
       "    .dataframe tbody tr th:only-of-type {\n",
       "        vertical-align: middle;\n",
       "    }\n",
       "\n",
       "    .dataframe tbody tr th {\n",
       "        vertical-align: top;\n",
       "    }\n",
       "\n",
       "    .dataframe thead th {\n",
       "        text-align: right;\n",
       "    }\n",
       "</style>\n",
       "<table border=\"1\" class=\"dataframe\">\n",
       "  <thead>\n",
       "    <tr style=\"text-align: right;\">\n",
       "      <th></th>\n",
       "      <th>ID</th>\n",
       "      <th>Computer Science</th>\n",
       "      <th>Physics</th>\n",
       "      <th>Mathematics</th>\n",
       "      <th>Statistics</th>\n",
       "      <th>Quantitative Biology</th>\n",
       "      <th>Quantitative Finance</th>\n",
       "      <th>text</th>\n",
       "      <th>cleaned_text</th>\n",
       "      <th>text_clean</th>\n",
       "    </tr>\n",
       "  </thead>\n",
       "  <tbody>\n",
       "    <tr>\n",
       "      <th>0</th>\n",
       "      <td>1</td>\n",
       "      <td>1</td>\n",
       "      <td>0</td>\n",
       "      <td>0</td>\n",
       "      <td>0</td>\n",
       "      <td>0</td>\n",
       "      <td>0</td>\n",
       "      <td>Reconstructing Subject-Specific Effect Maps   ...</td>\n",
       "      <td>reconstruct subject specific effect map  predi...</td>\n",
       "      <td>[reconstructing, subject, specific, effect, ma...</td>\n",
       "    </tr>\n",
       "    <tr>\n",
       "      <th>1</th>\n",
       "      <td>2</td>\n",
       "      <td>1</td>\n",
       "      <td>0</td>\n",
       "      <td>0</td>\n",
       "      <td>0</td>\n",
       "      <td>0</td>\n",
       "      <td>0</td>\n",
       "      <td>Rotation Invariance Neural Network   Rotation ...</td>\n",
       "      <td>rotation invariance neural network  rotation i...</td>\n",
       "      <td>[rotation, invariance, neural, network, rotati...</td>\n",
       "    </tr>\n",
       "    <tr>\n",
       "      <th>2</th>\n",
       "      <td>3</td>\n",
       "      <td>0</td>\n",
       "      <td>0</td>\n",
       "      <td>1</td>\n",
       "      <td>0</td>\n",
       "      <td>0</td>\n",
       "      <td>0</td>\n",
       "      <td>Spherical polyharmonics and Poisson kernels fo...</td>\n",
       "      <td>spherical polyharmonic poisson kernel polyharm...</td>\n",
       "      <td>[spherical, polyharmonics, and, poisson, kerne...</td>\n",
       "    </tr>\n",
       "    <tr>\n",
       "      <th>3</th>\n",
       "      <td>4</td>\n",
       "      <td>0</td>\n",
       "      <td>0</td>\n",
       "      <td>1</td>\n",
       "      <td>0</td>\n",
       "      <td>0</td>\n",
       "      <td>0</td>\n",
       "      <td>A finite element approximation for the stochas...</td>\n",
       "      <td>finite element approximation stochastic maxwel...</td>\n",
       "      <td>[finite, element, approximation, for, the, sto...</td>\n",
       "    </tr>\n",
       "    <tr>\n",
       "      <th>4</th>\n",
       "      <td>5</td>\n",
       "      <td>1</td>\n",
       "      <td>0</td>\n",
       "      <td>0</td>\n",
       "      <td>1</td>\n",
       "      <td>0</td>\n",
       "      <td>0</td>\n",
       "      <td>Comparative study of Discrete Wavelet Transfor...</td>\n",
       "      <td>comparative study discrete wavelet transforms ...</td>\n",
       "      <td>[comparative, study, of, discrete, wavelet, tr...</td>\n",
       "    </tr>\n",
       "  </tbody>\n",
       "</table>\n",
       "</div>"
      ],
      "text/plain": [
       "   ID  Computer Science  Physics  Mathematics  Statistics  \\\n",
       "0   1                 1        0            0           0   \n",
       "1   2                 1        0            0           0   \n",
       "2   3                 0        0            1           0   \n",
       "3   4                 0        0            1           0   \n",
       "4   5                 1        0            0           1   \n",
       "\n",
       "   Quantitative Biology  Quantitative Finance  \\\n",
       "0                     0                     0   \n",
       "1                     0                     0   \n",
       "2                     0                     0   \n",
       "3                     0                     0   \n",
       "4                     0                     0   \n",
       "\n",
       "                                                text  \\\n",
       "0  Reconstructing Subject-Specific Effect Maps   ...   \n",
       "1  Rotation Invariance Neural Network   Rotation ...   \n",
       "2  Spherical polyharmonics and Poisson kernels fo...   \n",
       "3  A finite element approximation for the stochas...   \n",
       "4  Comparative study of Discrete Wavelet Transfor...   \n",
       "\n",
       "                                        cleaned_text  \\\n",
       "0  reconstruct subject specific effect map  predi...   \n",
       "1  rotation invariance neural network  rotation i...   \n",
       "2  spherical polyharmonic poisson kernel polyharm...   \n",
       "3  finite element approximation stochastic maxwel...   \n",
       "4  comparative study discrete wavelet transforms ...   \n",
       "\n",
       "                                          text_clean  \n",
       "0  [reconstructing, subject, specific, effect, ma...  \n",
       "1  [rotation, invariance, neural, network, rotati...  \n",
       "2  [spherical, polyharmonics, and, poisson, kerne...  \n",
       "3  [finite, element, approximation, for, the, sto...  \n",
       "4  [comparative, study, of, discrete, wavelet, tr...  "
      ]
     },
     "execution_count": 59,
     "metadata": {},
     "output_type": "execute_result"
    }
   ],
   "source": [
    "# Clean data using the built in cleaner in gensim\n",
    "import gensim\n",
    "train_df['text_clean'] = train_df['text'].apply(lambda x: gensim.utils.simple_preprocess(x))\n",
    "train_df.head()"
   ]
  },
  {
   "cell_type": "code",
   "execution_count": 60,
   "metadata": {
    "execution": {
     "iopub.execute_input": "2022-08-16T15:17:26.466669Z",
     "iopub.status.busy": "2022-08-16T15:17:26.461384Z",
     "iopub.status.idle": "2022-08-16T15:17:26.482112Z",
     "shell.execute_reply": "2022-08-16T15:17:26.482564Z",
     "shell.execute_reply.started": "2022-08-16T15:09:04.494704Z"
    },
    "papermill": {
     "duration": 0.146732,
     "end_time": "2022-08-16T15:17:26.482697",
     "exception": false,
     "start_time": "2022-08-16T15:17:26.335965",
     "status": "completed"
    },
    "tags": []
   },
   "outputs": [
    {
     "data": {
      "text/html": [
       "<div>\n",
       "<style scoped>\n",
       "    .dataframe tbody tr th:only-of-type {\n",
       "        vertical-align: middle;\n",
       "    }\n",
       "\n",
       "    .dataframe tbody tr th {\n",
       "        vertical-align: top;\n",
       "    }\n",
       "\n",
       "    .dataframe thead th {\n",
       "        text-align: right;\n",
       "    }\n",
       "</style>\n",
       "<table border=\"1\" class=\"dataframe\">\n",
       "  <thead>\n",
       "    <tr style=\"text-align: right;\">\n",
       "      <th></th>\n",
       "      <th>ID</th>\n",
       "      <th>Computer Science</th>\n",
       "      <th>Physics</th>\n",
       "      <th>Mathematics</th>\n",
       "      <th>Statistics</th>\n",
       "      <th>Quantitative Biology</th>\n",
       "      <th>Quantitative Finance</th>\n",
       "      <th>text</th>\n",
       "      <th>cleaned_text</th>\n",
       "      <th>text_clean</th>\n",
       "      <th>tokenized_text</th>\n",
       "    </tr>\n",
       "  </thead>\n",
       "  <tbody>\n",
       "    <tr>\n",
       "      <th>0</th>\n",
       "      <td>1</td>\n",
       "      <td>1</td>\n",
       "      <td>0</td>\n",
       "      <td>0</td>\n",
       "      <td>0</td>\n",
       "      <td>0</td>\n",
       "      <td>0</td>\n",
       "      <td>Reconstructing Subject-Specific Effect Maps   ...</td>\n",
       "      <td>reconstruct subject specific effect map  predi...</td>\n",
       "      <td>[reconstructing, subject, specific, effect, ma...</td>\n",
       "      <td>[reconstruct, subject, specific, effect, map, ...</td>\n",
       "    </tr>\n",
       "    <tr>\n",
       "      <th>1</th>\n",
       "      <td>2</td>\n",
       "      <td>1</td>\n",
       "      <td>0</td>\n",
       "      <td>0</td>\n",
       "      <td>0</td>\n",
       "      <td>0</td>\n",
       "      <td>0</td>\n",
       "      <td>Rotation Invariance Neural Network   Rotation ...</td>\n",
       "      <td>rotation invariance neural network  rotation i...</td>\n",
       "      <td>[rotation, invariance, neural, network, rotati...</td>\n",
       "      <td>[rotation, invariance, neural, network, rotati...</td>\n",
       "    </tr>\n",
       "    <tr>\n",
       "      <th>2</th>\n",
       "      <td>3</td>\n",
       "      <td>0</td>\n",
       "      <td>0</td>\n",
       "      <td>1</td>\n",
       "      <td>0</td>\n",
       "      <td>0</td>\n",
       "      <td>0</td>\n",
       "      <td>Spherical polyharmonics and Poisson kernels fo...</td>\n",
       "      <td>spherical polyharmonic poisson kernel polyharm...</td>\n",
       "      <td>[spherical, polyharmonics, and, poisson, kerne...</td>\n",
       "      <td>[spherical, polyharmonic, poisson, kernel, pol...</td>\n",
       "    </tr>\n",
       "    <tr>\n",
       "      <th>3</th>\n",
       "      <td>4</td>\n",
       "      <td>0</td>\n",
       "      <td>0</td>\n",
       "      <td>1</td>\n",
       "      <td>0</td>\n",
       "      <td>0</td>\n",
       "      <td>0</td>\n",
       "      <td>A finite element approximation for the stochas...</td>\n",
       "      <td>finite element approximation stochastic maxwel...</td>\n",
       "      <td>[finite, element, approximation, for, the, sto...</td>\n",
       "      <td>[finite, element, approximation, stochastic, m...</td>\n",
       "    </tr>\n",
       "    <tr>\n",
       "      <th>4</th>\n",
       "      <td>5</td>\n",
       "      <td>1</td>\n",
       "      <td>0</td>\n",
       "      <td>0</td>\n",
       "      <td>1</td>\n",
       "      <td>0</td>\n",
       "      <td>0</td>\n",
       "      <td>Comparative study of Discrete Wavelet Transfor...</td>\n",
       "      <td>comparative study discrete wavelet transforms ...</td>\n",
       "      <td>[comparative, study, of, discrete, wavelet, tr...</td>\n",
       "      <td>[comparative, study, discrete, wavelet, transf...</td>\n",
       "    </tr>\n",
       "  </tbody>\n",
       "</table>\n",
       "</div>"
      ],
      "text/plain": [
       "   ID  Computer Science  Physics  Mathematics  Statistics  \\\n",
       "0   1                 1        0            0           0   \n",
       "1   2                 1        0            0           0   \n",
       "2   3                 0        0            1           0   \n",
       "3   4                 0        0            1           0   \n",
       "4   5                 1        0            0           1   \n",
       "\n",
       "   Quantitative Biology  Quantitative Finance  \\\n",
       "0                     0                     0   \n",
       "1                     0                     0   \n",
       "2                     0                     0   \n",
       "3                     0                     0   \n",
       "4                     0                     0   \n",
       "\n",
       "                                                text  \\\n",
       "0  Reconstructing Subject-Specific Effect Maps   ...   \n",
       "1  Rotation Invariance Neural Network   Rotation ...   \n",
       "2  Spherical polyharmonics and Poisson kernels fo...   \n",
       "3  A finite element approximation for the stochas...   \n",
       "4  Comparative study of Discrete Wavelet Transfor...   \n",
       "\n",
       "                                        cleaned_text  \\\n",
       "0  reconstruct subject specific effect map  predi...   \n",
       "1  rotation invariance neural network  rotation i...   \n",
       "2  spherical polyharmonic poisson kernel polyharm...   \n",
       "3  finite element approximation stochastic maxwel...   \n",
       "4  comparative study discrete wavelet transforms ...   \n",
       "\n",
       "                                          text_clean  \\\n",
       "0  [reconstructing, subject, specific, effect, ma...   \n",
       "1  [rotation, invariance, neural, network, rotati...   \n",
       "2  [spherical, polyharmonics, and, poisson, kerne...   \n",
       "3  [finite, element, approximation, for, the, sto...   \n",
       "4  [comparative, study, of, discrete, wavelet, tr...   \n",
       "\n",
       "                                      tokenized_text  \n",
       "0  [reconstruct, subject, specific, effect, map, ...  \n",
       "1  [rotation, invariance, neural, network, rotati...  \n",
       "2  [spherical, polyharmonic, poisson, kernel, pol...  \n",
       "3  [finite, element, approximation, stochastic, m...  \n",
       "4  [comparative, study, discrete, wavelet, transf...  "
      ]
     },
     "execution_count": 60,
     "metadata": {},
     "output_type": "execute_result"
    }
   ],
   "source": [
    "train_df['tokenized_text']=cleaned_tokens\n",
    "train_df.head()"
   ]
  },
  {
   "cell_type": "code",
   "execution_count": 61,
   "metadata": {
    "execution": {
     "iopub.execute_input": "2022-08-16T15:17:26.648796Z",
     "iopub.status.busy": "2022-08-16T15:17:26.647873Z",
     "iopub.status.idle": "2022-08-16T15:17:26.693563Z",
     "shell.execute_reply": "2022-08-16T15:17:26.692685Z",
     "shell.execute_reply.started": "2022-08-16T15:09:26.932899Z"
    },
    "papermill": {
     "duration": 0.130738,
     "end_time": "2022-08-16T15:17:26.693670",
     "exception": false,
     "start_time": "2022-08-16T15:17:26.562932",
     "status": "completed"
    },
    "tags": []
   },
   "outputs": [
    {
     "data": {
      "text/plain": [
       "[0, 0, 2, 2, 0]"
      ]
     },
     "execution_count": 61,
     "metadata": {},
     "output_type": "execute_result"
    }
   ],
   "source": [
    "y_train=train_df.loc[:,categories].idxmax(axis=1)\n",
    "y_train=y_train.replace(['Computer Science',\n",
    " 'Physics',\n",
    " 'Mathematics',\n",
    " 'Statistics',\n",
    " 'Quantitative Biology',\n",
    " 'Quantitative Finance'],[0,1,2,3,4,5])\n",
    "y_train=list(y_train.values)\n",
    "y_train[:5]"
   ]
  },
  {
   "cell_type": "code",
   "execution_count": 62,
   "metadata": {
    "execution": {
     "iopub.execute_input": "2022-08-16T15:17:26.931174Z",
     "iopub.status.busy": "2022-08-16T15:17:26.930312Z",
     "iopub.status.idle": "2022-08-16T15:17:27.008574Z",
     "shell.execute_reply": "2022-08-16T15:17:27.009429Z",
     "shell.execute_reply.started": "2022-08-16T15:09:27.921689Z"
    },
    "papermill": {
     "duration": 0.236593,
     "end_time": "2022-08-16T15:17:27.009624",
     "exception": false,
     "start_time": "2022-08-16T15:17:26.773031",
     "status": "completed"
    },
    "tags": []
   },
   "outputs": [
    {
     "data": {
      "text/html": [
       "<div>\n",
       "<style scoped>\n",
       "    .dataframe tbody tr th:only-of-type {\n",
       "        vertical-align: middle;\n",
       "    }\n",
       "\n",
       "    .dataframe tbody tr th {\n",
       "        vertical-align: top;\n",
       "    }\n",
       "\n",
       "    .dataframe thead th {\n",
       "        text-align: right;\n",
       "    }\n",
       "</style>\n",
       "<table border=\"1\" class=\"dataframe\">\n",
       "  <thead>\n",
       "    <tr style=\"text-align: right;\">\n",
       "      <th></th>\n",
       "      <th>ID</th>\n",
       "      <th>Computer Science</th>\n",
       "      <th>Physics</th>\n",
       "      <th>Mathematics</th>\n",
       "      <th>Statistics</th>\n",
       "      <th>Quantitative Biology</th>\n",
       "      <th>Quantitative Finance</th>\n",
       "      <th>text</th>\n",
       "      <th>cleaned_text</th>\n",
       "      <th>text_clean</th>\n",
       "      <th>tokenized_text</th>\n",
       "      <th>target</th>\n",
       "    </tr>\n",
       "  </thead>\n",
       "  <tbody>\n",
       "    <tr>\n",
       "      <th>0</th>\n",
       "      <td>1</td>\n",
       "      <td>1</td>\n",
       "      <td>0</td>\n",
       "      <td>0</td>\n",
       "      <td>0</td>\n",
       "      <td>0</td>\n",
       "      <td>0</td>\n",
       "      <td>Reconstructing Subject-Specific Effect Maps   ...</td>\n",
       "      <td>reconstruct subject specific effect map  predi...</td>\n",
       "      <td>[reconstructing, subject, specific, effect, ma...</td>\n",
       "      <td>[reconstruct, subject, specific, effect, map, ...</td>\n",
       "      <td>0</td>\n",
       "    </tr>\n",
       "    <tr>\n",
       "      <th>1</th>\n",
       "      <td>2</td>\n",
       "      <td>1</td>\n",
       "      <td>0</td>\n",
       "      <td>0</td>\n",
       "      <td>0</td>\n",
       "      <td>0</td>\n",
       "      <td>0</td>\n",
       "      <td>Rotation Invariance Neural Network   Rotation ...</td>\n",
       "      <td>rotation invariance neural network  rotation i...</td>\n",
       "      <td>[rotation, invariance, neural, network, rotati...</td>\n",
       "      <td>[rotation, invariance, neural, network, rotati...</td>\n",
       "      <td>0</td>\n",
       "    </tr>\n",
       "    <tr>\n",
       "      <th>2</th>\n",
       "      <td>3</td>\n",
       "      <td>0</td>\n",
       "      <td>0</td>\n",
       "      <td>1</td>\n",
       "      <td>0</td>\n",
       "      <td>0</td>\n",
       "      <td>0</td>\n",
       "      <td>Spherical polyharmonics and Poisson kernels fo...</td>\n",
       "      <td>spherical polyharmonic poisson kernel polyharm...</td>\n",
       "      <td>[spherical, polyharmonics, and, poisson, kerne...</td>\n",
       "      <td>[spherical, polyharmonic, poisson, kernel, pol...</td>\n",
       "      <td>2</td>\n",
       "    </tr>\n",
       "    <tr>\n",
       "      <th>3</th>\n",
       "      <td>4</td>\n",
       "      <td>0</td>\n",
       "      <td>0</td>\n",
       "      <td>1</td>\n",
       "      <td>0</td>\n",
       "      <td>0</td>\n",
       "      <td>0</td>\n",
       "      <td>A finite element approximation for the stochas...</td>\n",
       "      <td>finite element approximation stochastic maxwel...</td>\n",
       "      <td>[finite, element, approximation, for, the, sto...</td>\n",
       "      <td>[finite, element, approximation, stochastic, m...</td>\n",
       "      <td>2</td>\n",
       "    </tr>\n",
       "    <tr>\n",
       "      <th>4</th>\n",
       "      <td>5</td>\n",
       "      <td>1</td>\n",
       "      <td>0</td>\n",
       "      <td>0</td>\n",
       "      <td>1</td>\n",
       "      <td>0</td>\n",
       "      <td>0</td>\n",
       "      <td>Comparative study of Discrete Wavelet Transfor...</td>\n",
       "      <td>comparative study discrete wavelet transforms ...</td>\n",
       "      <td>[comparative, study, of, discrete, wavelet, tr...</td>\n",
       "      <td>[comparative, study, discrete, wavelet, transf...</td>\n",
       "      <td>0</td>\n",
       "    </tr>\n",
       "  </tbody>\n",
       "</table>\n",
       "</div>"
      ],
      "text/plain": [
       "   ID  Computer Science  Physics  Mathematics  Statistics  \\\n",
       "0   1                 1        0            0           0   \n",
       "1   2                 1        0            0           0   \n",
       "2   3                 0        0            1           0   \n",
       "3   4                 0        0            1           0   \n",
       "4   5                 1        0            0           1   \n",
       "\n",
       "   Quantitative Biology  Quantitative Finance  \\\n",
       "0                     0                     0   \n",
       "1                     0                     0   \n",
       "2                     0                     0   \n",
       "3                     0                     0   \n",
       "4                     0                     0   \n",
       "\n",
       "                                                text  \\\n",
       "0  Reconstructing Subject-Specific Effect Maps   ...   \n",
       "1  Rotation Invariance Neural Network   Rotation ...   \n",
       "2  Spherical polyharmonics and Poisson kernels fo...   \n",
       "3  A finite element approximation for the stochas...   \n",
       "4  Comparative study of Discrete Wavelet Transfor...   \n",
       "\n",
       "                                        cleaned_text  \\\n",
       "0  reconstruct subject specific effect map  predi...   \n",
       "1  rotation invariance neural network  rotation i...   \n",
       "2  spherical polyharmonic poisson kernel polyharm...   \n",
       "3  finite element approximation stochastic maxwel...   \n",
       "4  comparative study discrete wavelet transforms ...   \n",
       "\n",
       "                                          text_clean  \\\n",
       "0  [reconstructing, subject, specific, effect, ma...   \n",
       "1  [rotation, invariance, neural, network, rotati...   \n",
       "2  [spherical, polyharmonics, and, poisson, kerne...   \n",
       "3  [finite, element, approximation, for, the, sto...   \n",
       "4  [comparative, study, of, discrete, wavelet, tr...   \n",
       "\n",
       "                                      tokenized_text  target  \n",
       "0  [reconstruct, subject, specific, effect, map, ...       0  \n",
       "1  [rotation, invariance, neural, network, rotati...       0  \n",
       "2  [spherical, polyharmonic, poisson, kernel, pol...       2  \n",
       "3  [finite, element, approximation, stochastic, m...       2  \n",
       "4  [comparative, study, discrete, wavelet, transf...       0  "
      ]
     },
     "execution_count": 62,
     "metadata": {},
     "output_type": "execute_result"
    }
   ],
   "source": [
    "train_df['target']=y_train\n",
    "train_df.head()"
   ]
  },
  {
   "cell_type": "code",
   "execution_count": 63,
   "metadata": {
    "execution": {
     "iopub.execute_input": "2022-08-16T15:17:27.279888Z",
     "iopub.status.busy": "2022-08-16T15:17:27.278923Z",
     "iopub.status.idle": "2022-08-16T15:17:27.283446Z",
     "shell.execute_reply": "2022-08-16T15:17:27.284438Z",
     "shell.execute_reply.started": "2022-08-16T15:09:28.286943Z"
    },
    "papermill": {
     "duration": 0.146169,
     "end_time": "2022-08-16T15:17:27.284607",
     "exception": false,
     "start_time": "2022-08-16T15:17:27.138438",
     "status": "completed"
    },
    "tags": []
   },
   "outputs": [],
   "source": [
    "# Split data into train and test sets\n",
    "X_train, X_test, y_train, y_test = train_test_split (train_df['tokenized_text'],\n",
    "                                                     train_df['target'] , test_size=0.2)"
   ]
  },
  {
   "cell_type": "code",
   "execution_count": 64,
   "metadata": {
    "execution": {
     "iopub.execute_input": "2022-08-16T15:17:27.500691Z",
     "iopub.status.busy": "2022-08-16T15:17:27.499760Z",
     "iopub.status.idle": "2022-08-16T15:17:27.502703Z",
     "shell.execute_reply": "2022-08-16T15:17:27.503109Z",
     "shell.execute_reply.started": "2022-08-16T15:09:28.886599Z"
    },
    "papermill": {
     "duration": 0.087245,
     "end_time": "2022-08-16T15:17:27.503224",
     "exception": false,
     "start_time": "2022-08-16T15:17:27.415979",
     "status": "completed"
    },
    "tags": []
   },
   "outputs": [
    {
     "data": {
      "text/plain": [
       "((16777,), (4195,), (16777,), (4195,))"
      ]
     },
     "execution_count": 64,
     "metadata": {},
     "output_type": "execute_result"
    }
   ],
   "source": [
    "X_train.shape,X_test.shape,y_train.shape,y_test.shape"
   ]
  },
  {
   "cell_type": "code",
   "execution_count": 65,
   "metadata": {
    "execution": {
     "iopub.execute_input": "2022-08-16T15:17:27.666661Z",
     "iopub.status.busy": "2022-08-16T15:17:27.665794Z",
     "iopub.status.idle": "2022-08-16T15:17:27.668507Z",
     "shell.execute_reply": "2022-08-16T15:17:27.668013Z",
     "shell.execute_reply.started": "2022-08-16T15:09:29.176532Z"
    },
    "papermill": {
     "duration": 0.085275,
     "end_time": "2022-08-16T15:17:27.668619",
     "exception": false,
     "start_time": "2022-08-16T15:17:27.583344",
     "status": "completed"
    },
    "tags": []
   },
   "outputs": [],
   "source": [
    "#! pip install --upgrade gensim"
   ]
  },
  {
   "cell_type": "code",
   "execution_count": 66,
   "metadata": {
    "execution": {
     "iopub.execute_input": "2022-08-16T15:17:27.833122Z",
     "iopub.status.busy": "2022-08-16T15:17:27.832582Z",
     "iopub.status.idle": "2022-08-16T15:17:27.836345Z",
     "shell.execute_reply": "2022-08-16T15:17:27.835804Z",
     "shell.execute_reply.started": "2022-08-16T15:09:29.407050Z"
    },
    "papermill": {
     "duration": 0.087996,
     "end_time": "2022-08-16T15:17:27.836448",
     "exception": false,
     "start_time": "2022-08-16T15:17:27.748452",
     "status": "completed"
    },
    "tags": []
   },
   "outputs": [],
   "source": [
    "#! pip install gensim"
   ]
  },
  {
   "cell_type": "code",
   "execution_count": 67,
   "metadata": {
    "execution": {
     "iopub.execute_input": "2022-08-16T15:17:28.001125Z",
     "iopub.status.busy": "2022-08-16T15:17:27.999939Z",
     "iopub.status.idle": "2022-08-16T15:17:28.003829Z",
     "shell.execute_reply": "2022-08-16T15:17:28.004263Z",
     "shell.execute_reply.started": "2022-08-16T15:09:29.687084Z"
    },
    "papermill": {
     "duration": 0.088341,
     "end_time": "2022-08-16T15:17:28.004396",
     "exception": false,
     "start_time": "2022-08-16T15:17:27.916055",
     "status": "completed"
    },
    "tags": []
   },
   "outputs": [
    {
     "name": "stdout",
     "output_type": "stream",
     "text": [
      "3.8.3\n"
     ]
    }
   ],
   "source": [
    "import gensim\n",
    "print(gensim.__version__)"
   ]
  },
  {
   "cell_type": "markdown",
   "metadata": {
    "papermill": {
     "duration": 0.079889,
     "end_time": "2022-08-16T15:17:28.163590",
     "exception": false,
     "start_time": "2022-08-16T15:17:28.083701",
     "status": "completed"
    },
    "tags": []
   },
   "source": [
    "[gensim3 to gensim4](https://github.com/RaRe-Technologies/gensim/wiki/Migrating-from-Gensim-3.x-to-4)"
   ]
  },
  {
   "cell_type": "code",
   "execution_count": 68,
   "metadata": {
    "execution": {
     "iopub.execute_input": "2022-08-16T15:17:28.364286Z",
     "iopub.status.busy": "2022-08-16T15:17:28.354309Z",
     "iopub.status.idle": "2022-08-16T15:17:46.236520Z",
     "shell.execute_reply": "2022-08-16T15:17:46.236021Z",
     "shell.execute_reply.started": "2022-08-16T15:09:30.571668Z"
    },
    "papermill": {
     "duration": 17.987292,
     "end_time": "2022-08-16T15:17:46.236638",
     "exception": false,
     "start_time": "2022-08-16T15:17:28.249346",
     "status": "completed"
    },
    "tags": []
   },
   "outputs": [],
   "source": [
    "import gensim\n",
    "# Train the word2vec model\n",
    "w2v_model = gensim.models.Word2Vec(X_train,\n",
    "                                   window=5,\n",
    "                                   size=100,\n",
    "                                   min_count=2)"
   ]
  },
  {
   "cell_type": "code",
   "execution_count": 69,
   "metadata": {
    "execution": {
     "iopub.execute_input": "2022-08-16T15:17:46.407171Z",
     "iopub.status.busy": "2022-08-16T15:17:46.406646Z",
     "iopub.status.idle": "2022-08-16T15:17:46.410548Z",
     "shell.execute_reply": "2022-08-16T15:17:46.410094Z",
     "shell.execute_reply.started": "2022-08-16T15:09:52.954018Z"
    },
    "papermill": {
     "duration": 0.088948,
     "end_time": "2022-08-16T15:17:46.410650",
     "exception": false,
     "start_time": "2022-08-16T15:17:46.321702",
     "status": "completed"
    },
    "tags": []
   },
   "outputs": [],
   "source": [
    "# from gensim.models import KeyedVectors\n",
    "# filename = '../input/googlenewsvectorsnegative300/GoogleNews-vectors-negative300.bin'\n",
    "# w2v_model = KeyedVectors.load_word2vec_format(filename, binary=True)"
   ]
  },
  {
   "cell_type": "code",
   "execution_count": 70,
   "metadata": {
    "execution": {
     "iopub.execute_input": "2022-08-16T15:17:46.577819Z",
     "iopub.status.busy": "2022-08-16T15:17:46.576615Z",
     "iopub.status.idle": "2022-08-16T15:17:46.596907Z",
     "shell.execute_reply": "2022-08-16T15:17:46.596471Z",
     "shell.execute_reply.started": "2022-08-16T15:09:52.961901Z"
    },
    "papermill": {
     "duration": 0.107021,
     "end_time": "2022-08-16T15:17:46.597011",
     "exception": false,
     "start_time": "2022-08-16T15:17:46.489990",
     "status": "completed"
    },
    "tags": []
   },
   "outputs": [
    {
     "data": {
      "text/plain": [
       "[('vision', 0.9037588834762573),\n",
       " ('engineering', 0.8722891211509705),\n",
       " ('modern', 0.8693317770957947),\n",
       " ('science', 0.82513827085495),\n",
       " ('aid', 0.8248810172080994),\n",
       " ('ai', 0.8188698291778564),\n",
       " ('advanced', 0.8175793886184692),\n",
       " ('robotic', 0.8123648762702942),\n",
       " ('industrial', 0.8122684359550476),\n",
       " ('cav', 0.8113261461257935)]"
      ]
     },
     "execution_count": 70,
     "metadata": {},
     "output_type": "execute_result"
    }
   ],
   "source": [
    "# Find the most similar words to \"computer\" based on word vectors from our trained model\n",
    "w2v_model.wv.most_similar('computer')"
   ]
  },
  {
   "cell_type": "code",
   "execution_count": 71,
   "metadata": {
    "execution": {
     "iopub.execute_input": "2022-08-16T15:17:46.772061Z",
     "iopub.status.busy": "2022-08-16T15:17:46.771241Z",
     "iopub.status.idle": "2022-08-16T15:17:51.823742Z",
     "shell.execute_reply": "2022-08-16T15:17:51.823248Z",
     "shell.execute_reply.started": "2022-08-16T15:09:52.997321Z"
    },
    "papermill": {
     "duration": 5.145349,
     "end_time": "2022-08-16T15:17:51.823857",
     "exception": false,
     "start_time": "2022-08-16T15:17:46.678508",
     "status": "completed"
    },
    "tags": []
   },
   "outputs": [],
   "source": [
    "words = set(w2v_model.wv.index2word )\n",
    "X_train_vect = np.array([np.array([w2v_model.wv[i] for i in ls if i in words])\n",
    "                         for ls in X_train])\n",
    "X_test_vect = np.array([np.array([w2v_model.wv[i] for i in ls if i in words])\n",
    "                         for ls in X_test])"
   ]
  },
  {
   "cell_type": "code",
   "execution_count": 72,
   "metadata": {
    "execution": {
     "iopub.execute_input": "2022-08-16T15:17:52.047792Z",
     "iopub.status.busy": "2022-08-16T15:17:52.027451Z",
     "iopub.status.idle": "2022-08-16T15:17:52.111942Z",
     "shell.execute_reply": "2022-08-16T15:17:52.112377Z",
     "shell.execute_reply.started": "2022-08-16T15:09:57.977250Z"
    },
    "papermill": {
     "duration": 0.205903,
     "end_time": "2022-08-16T15:17:52.112511",
     "exception": false,
     "start_time": "2022-08-16T15:17:51.906608",
     "status": "completed"
    },
    "tags": []
   },
   "outputs": [
    {
     "data": {
      "text/plain": [
       "239"
      ]
     },
     "execution_count": 72,
     "metadata": {},
     "output_type": "execute_result"
    }
   ],
   "source": [
    "max_sentense_length=0\n",
    "cur=0\n",
    "for i, v in enumerate(X_train_vect):\n",
    "    current=len(X_train.iloc[i])\n",
    "    if current>max_sentense_length:\n",
    "        max_sentense_length=current\n",
    "max_sentense_length"
   ]
  },
  {
   "cell_type": "code",
   "execution_count": 73,
   "metadata": {
    "execution": {
     "iopub.execute_input": "2022-08-16T15:17:52.280049Z",
     "iopub.status.busy": "2022-08-16T15:17:52.279171Z",
     "iopub.status.idle": "2022-08-16T15:17:52.285115Z",
     "shell.execute_reply": "2022-08-16T15:17:52.285657Z",
     "shell.execute_reply.started": "2022-08-16T15:09:58.122006Z"
    },
    "papermill": {
     "duration": 0.092593,
     "end_time": "2022-08-16T15:17:52.285803",
     "exception": false,
     "start_time": "2022-08-16T15:17:52.193210",
     "status": "completed"
    },
    "tags": []
   },
   "outputs": [
    {
     "name": "stdout",
     "output_type": "stream",
     "text": [
      "72 72\n",
      "81 80\n",
      "129 129\n",
      "68 68\n",
      "30 29\n",
      "96 96\n",
      "144 140\n",
      "16 16\n",
      "141 141\n",
      "74 74\n",
      "132 131\n"
     ]
    }
   ],
   "source": [
    "# Why is the length of the sentence different than the length of the sentence vector?\n",
    "for i, v in enumerate(X_train_vect):\n",
    "    if i>10:          # just looking at only 10 elements\n",
    "        break     \n",
    "    print(len(X_train.iloc[i]), len(v))"
   ]
  },
  {
   "cell_type": "code",
   "execution_count": 74,
   "metadata": {
    "execution": {
     "iopub.execute_input": "2022-08-16T15:17:52.456193Z",
     "iopub.status.busy": "2022-08-16T15:17:52.455307Z",
     "iopub.status.idle": "2022-08-16T15:17:52.713608Z",
     "shell.execute_reply": "2022-08-16T15:17:52.712355Z",
     "shell.execute_reply.started": "2022-08-16T15:09:59.886837Z"
    },
    "papermill": {
     "duration": 0.346174,
     "end_time": "2022-08-16T15:17:52.713726",
     "exception": false,
     "start_time": "2022-08-16T15:17:52.367552",
     "status": "completed"
    },
    "tags": []
   },
   "outputs": [],
   "source": [
    "# Compute sentence vectors by averaging the word vectors for the words contained in the sentence\n",
    "X_train_vect_avg = []\n",
    "for v in X_train_vect:\n",
    "    if v.size:\n",
    "        X_train_vect_avg.append(v.mean(axis=0))\n",
    "    else:\n",
    "        X_train_vect_avg.append(np.zeros(438, dtype=float)) # 290 because maximum array len is 287\n",
    "        \n",
    "X_test_vect_avg = []\n",
    "for v in X_test_vect:\n",
    "    if v.size:\n",
    "        X_test_vect_avg.append(v.mean(axis=0))\n",
    "    else:\n",
    "        X_test_vect_avg.append(np.zeros(438, dtype=float))"
   ]
  },
  {
   "cell_type": "code",
   "execution_count": 75,
   "metadata": {
    "execution": {
     "iopub.execute_input": "2022-08-16T15:17:52.886689Z",
     "iopub.status.busy": "2022-08-16T15:17:52.884257Z",
     "iopub.status.idle": "2022-08-16T15:17:52.888941Z",
     "shell.execute_reply": "2022-08-16T15:17:52.887176Z",
     "shell.execute_reply.started": "2022-08-16T15:10:00.976806Z"
    },
    "papermill": {
     "duration": 0.093883,
     "end_time": "2022-08-16T15:17:52.889070",
     "exception": false,
     "start_time": "2022-08-16T15:17:52.795187",
     "status": "completed"
    },
    "tags": []
   },
   "outputs": [
    {
     "name": "stdout",
     "output_type": "stream",
     "text": [
      "72 100\n",
      "81 100\n",
      "129 100\n",
      "68 100\n",
      "30 100\n",
      "96 100\n",
      "144 100\n",
      "16 100\n",
      "141 100\n",
      "74 100\n",
      "132 100\n"
     ]
    }
   ],
   "source": [
    "# Are our sentence vector lengths consistent?\n",
    "for i, v in enumerate(X_train_vect_avg):\n",
    "    if i>10:\n",
    "        break\n",
    "    print(len(X_train.iloc[i]), len(v))"
   ]
  },
  {
   "cell_type": "code",
   "execution_count": 76,
   "metadata": {
    "execution": {
     "iopub.execute_input": "2022-08-16T15:17:53.056082Z",
     "iopub.status.busy": "2022-08-16T15:17:53.055549Z",
     "iopub.status.idle": "2022-08-16T15:17:53.059409Z",
     "shell.execute_reply": "2022-08-16T15:17:53.058962Z",
     "shell.execute_reply.started": "2022-08-16T15:10:01.524531Z"
    },
    "papermill": {
     "duration": 0.088666,
     "end_time": "2022-08-16T15:17:53.059557",
     "exception": false,
     "start_time": "2022-08-16T15:17:52.970891",
     "status": "completed"
    },
    "tags": []
   },
   "outputs": [],
   "source": [
    "# Instantiate and fit a basic Random Forest model on top of the vectors\n",
    "from sklearn.linear_model import LogisticRegression\n",
    "#rf=LogisticRegression(C=1.0,solver=\"sag\")\n",
    "\n",
    "#rf_model = rf.fit(X_train_vect_avg, y_train.values.ravel())"
   ]
  },
  {
   "cell_type": "code",
   "execution_count": 77,
   "metadata": {
    "execution": {
     "iopub.execute_input": "2022-08-16T15:17:53.226711Z",
     "iopub.status.busy": "2022-08-16T15:17:53.225860Z",
     "iopub.status.idle": "2022-08-16T15:17:53.228838Z",
     "shell.execute_reply": "2022-08-16T15:17:53.228388Z",
     "shell.execute_reply.started": "2022-08-16T15:10:02.079880Z"
    },
    "papermill": {
     "duration": 0.088666,
     "end_time": "2022-08-16T15:17:53.228944",
     "exception": false,
     "start_time": "2022-08-16T15:17:53.140278",
     "status": "completed"
    },
    "tags": []
   },
   "outputs": [],
   "source": [
    "# from sklearn.model_selection import GridSearchCV\n",
    "# params={\n",
    "#     'C':[0.1,0.5,1],\n",
    "#     'solver':['newton-cg', 'lbfgs', 'liblinear', 'sag', 'saga']\n",
    "# }\n",
    "# gs_knn = GridSearchCV(LogisticRegression(),\n",
    "#                       param_grid=params,\n",
    "#                       scoring='accuracy',\n",
    "#                       cv=5)\n",
    "\n",
    "# gs_model = gs_knn.fit(X_train_vect_avg, y_train.values.ravel())"
   ]
  },
  {
   "cell_type": "code",
   "execution_count": 78,
   "metadata": {
    "execution": {
     "iopub.execute_input": "2022-08-16T15:17:53.394716Z",
     "iopub.status.busy": "2022-08-16T15:17:53.393845Z",
     "iopub.status.idle": "2022-08-16T15:17:53.396656Z",
     "shell.execute_reply": "2022-08-16T15:17:53.396181Z",
     "shell.execute_reply.started": "2022-08-16T15:10:02.959951Z"
    },
    "papermill": {
     "duration": 0.087381,
     "end_time": "2022-08-16T15:17:53.396759",
     "exception": false,
     "start_time": "2022-08-16T15:17:53.309378",
     "status": "completed"
    },
    "tags": []
   },
   "outputs": [],
   "source": [
    "# gs_model.best_params_"
   ]
  },
  {
   "cell_type": "code",
   "execution_count": 79,
   "metadata": {
    "execution": {
     "iopub.execute_input": "2022-08-16T15:17:53.567165Z",
     "iopub.status.busy": "2022-08-16T15:17:53.566220Z",
     "iopub.status.idle": "2022-08-16T15:17:55.449865Z",
     "shell.execute_reply": "2022-08-16T15:17:55.448948Z",
     "shell.execute_reply.started": "2022-08-16T15:10:03.609569Z"
    },
    "papermill": {
     "duration": 1.971999,
     "end_time": "2022-08-16T15:17:55.449975",
     "exception": false,
     "start_time": "2022-08-16T15:17:53.477976",
     "status": "completed"
    },
    "tags": []
   },
   "outputs": [
    {
     "data": {
      "text/plain": [
       "LogisticRegression(C=1, solver='newton-cg')"
      ]
     },
     "execution_count": 79,
     "metadata": {},
     "output_type": "execute_result"
    }
   ],
   "source": [
    "clf_model=LogisticRegression(C=1,solver=\"newton-cg\")\n",
    "\n",
    "clf_model.fit(X_train_vect_avg, y_train.values.ravel())"
   ]
  },
  {
   "cell_type": "code",
   "execution_count": 80,
   "metadata": {
    "execution": {
     "iopub.execute_input": "2022-08-16T15:17:55.621021Z",
     "iopub.status.busy": "2022-08-16T15:17:55.620215Z",
     "iopub.status.idle": "2022-08-16T15:17:55.648651Z",
     "shell.execute_reply": "2022-08-16T15:17:55.648028Z",
     "shell.execute_reply.started": "2022-08-16T15:10:06.186683Z"
    },
    "papermill": {
     "duration": 0.116906,
     "end_time": "2022-08-16T15:17:55.648791",
     "exception": false,
     "start_time": "2022-08-16T15:17:55.531885",
     "status": "completed"
    },
    "tags": []
   },
   "outputs": [
    {
     "name": "stdout",
     "output_type": "stream",
     "text": [
      "train_accuracy 0.5920701697818362\n",
      "test_accuracy 0.583747777318839\n"
     ]
    }
   ],
   "source": [
    "from sklearn.metrics import accuracy_score\n",
    "print(\"train_accuracy\",f1_score(y_train,clf_model.predict(X_train_vect_avg),average=\"macro\"))\n",
    "print(\"test_accuracy\",f1_score(y_test,clf_model.predict(X_test_vect_avg),average='macro'))"
   ]
  },
  {
   "cell_type": "code",
   "execution_count": 81,
   "metadata": {
    "execution": {
     "iopub.execute_input": "2022-08-16T15:17:55.824067Z",
     "iopub.status.busy": "2022-08-16T15:17:55.823229Z",
     "iopub.status.idle": "2022-08-16T15:17:56.210636Z",
     "shell.execute_reply": "2022-08-16T15:17:56.211110Z",
     "shell.execute_reply.started": "2022-08-16T15:10:08.349388Z"
    },
    "papermill": {
     "duration": 0.479397,
     "end_time": "2022-08-16T15:17:56.211254",
     "exception": false,
     "start_time": "2022-08-16T15:17:55.731857",
     "status": "completed"
    },
    "tags": []
   },
   "outputs": [
    {
     "data": {
      "text/plain": [
       "Text(79.49999999999999, 0.5, 'Actual')"
      ]
     },
     "execution_count": 81,
     "metadata": {},
     "output_type": "execute_result"
    },
    {
     "data": {
      "image/png": "[encoded data removed]",
      "text/plain": [
       "<Figure size 864x864 with 2 Axes>"
      ]
     },
     "metadata": {},
     "output_type": "display_data"
    }
   ],
   "source": [
    "c_matrix3=confusion_matrix(y_train,clf_model.predict(X_train_vect_avg))\n",
    "c_matrix3=pd.DataFrame(c_matrix,columns=['Computer Science',\n",
    " 'Physics',\n",
    " 'Mathematics',\n",
    " 'Statistics',\n",
    " 'Quantitative Biology',\n",
    " 'Quantitative Finance'],index=['Computer Science',\n",
    " 'Physics',\n",
    " 'Mathematics',\n",
    " 'Statistics',\n",
    " 'Quantitative Biology',\n",
    " 'Quantitative Finance'])\n",
    "\n",
    "fig,ax=plt.subplots(figsize=(12,12))\n",
    "sns.set(font_scale=1.4)\n",
    "sns.heatmap(c_matrix/np.sum(c_matrix),fmt=\"0.2%\",annot=True,cmap=\"Blues\",ax=ax)\n",
    "ax.set_title(\"Confusion matrix \",fontsize=26)\n",
    "ax.set_xlabel(\"Predicted\",fontsize=26)\n",
    "ax.set_ylabel(\"Actual\",fontsize=26)"
   ]
  },
  {
   "cell_type": "code",
   "execution_count": 82,
   "metadata": {
    "execution": {
     "iopub.execute_input": "2022-08-16T15:17:56.390071Z",
     "iopub.status.busy": "2022-08-16T15:17:56.389312Z",
     "iopub.status.idle": "2022-08-16T15:18:00.863100Z",
     "shell.execute_reply": "2022-08-16T15:18:00.862416Z",
     "shell.execute_reply.started": "2022-08-16T15:10:40.825764Z"
    },
    "papermill": {
     "duration": 4.564459,
     "end_time": "2022-08-16T15:18:00.863224",
     "exception": false,
     "start_time": "2022-08-16T15:17:56.298765",
     "status": "completed"
    },
    "tags": []
   },
   "outputs": [],
   "source": [
    "from tensorflow.keras.models import Sequential\n",
    "from tensorflow.keras.layers import Embedding\n",
    "import numpy as np\n",
    "from numpy import array\n",
    "from tensorflow.keras.preprocessing.text import one_hot\n",
    "from tensorflow.keras.preprocessing.sequence import pad_sequences\n",
    "from tensorflow.keras.models import Sequential\n",
    "from tensorflow.keras.layers import Flatten,Embedding,Dense"
   ]
  },
  {
   "cell_type": "code",
   "execution_count": 83,
   "metadata": {
    "execution": {
     "iopub.execute_input": "2022-08-16T15:18:01.041288Z",
     "iopub.status.busy": "2022-08-16T15:18:01.040443Z",
     "iopub.status.idle": "2022-08-16T15:18:01.042517Z",
     "shell.execute_reply": "2022-08-16T15:18:01.042896Z",
     "shell.execute_reply.started": "2022-08-16T15:10:45.829791Z"
    },
    "papermill": {
     "duration": 0.094643,
     "end_time": "2022-08-16T15:18:01.043022",
     "exception": false,
     "start_time": "2022-08-16T15:18:00.948379",
     "status": "completed"
    },
    "tags": []
   },
   "outputs": [],
   "source": [
    "# Cleaning 'text' column like removing stopwords , punctuations\n",
    "# Using nltk library for this process\n",
    "import nltk\n",
    "import random\n",
    "import re\n",
    "import string\n",
    "\n",
    "from nltk.corpus import stopwords\n",
    "from nltk.stem import PorterStemmer\n",
    "from nltk.tokenize import TweetTokenizer"
   ]
  },
  {
   "cell_type": "code",
   "execution_count": 84,
   "metadata": {
    "execution": {
     "iopub.execute_input": "2022-08-16T15:18:01.216077Z",
     "iopub.status.busy": "2022-08-16T15:18:01.215074Z",
     "iopub.status.idle": "2022-08-16T15:18:01.221124Z",
     "shell.execute_reply": "2022-08-16T15:18:01.221660Z",
     "shell.execute_reply.started": "2022-08-16T15:10:45.837088Z"
    },
    "papermill": {
     "duration": 0.0944,
     "end_time": "2022-08-16T15:18:01.221798",
     "exception": false,
     "start_time": "2022-08-16T15:18:01.127398",
     "status": "completed"
    },
    "tags": []
   },
   "outputs": [
    {
     "name": "stdout",
     "output_type": "stream",
     "text": [
      "All Stopwords \n",
      " ['i', 'me', 'my', 'myself', 'we', 'our', 'ours', 'ourselves', 'you', \"you're\", \"you've\", \"you'll\", \"you'd\", 'your', 'yours', 'yourself', 'yourselves', 'he', 'him', 'his', 'himself', 'she', \"she's\", 'her', 'hers', 'herself', 'it', \"it's\", 'its', 'itself', 'they', 'them', 'their', 'theirs', 'themselves', 'what', 'which', 'who', 'whom', 'this', 'that', \"that'll\", 'these', 'those', 'am', 'is', 'are', 'was', 'were', 'be', 'been', 'being', 'have', 'has', 'had', 'having', 'do', 'does', 'did', 'doing', 'a', 'an', 'the', 'and', 'but', 'if', 'or', 'because', 'as', 'until', 'while', 'of', 'at', 'by', 'for', 'with', 'about', 'against', 'between', 'into', 'through', 'during', 'before', 'after', 'above', 'below', 'to', 'from', 'up', 'down', 'in', 'out', 'on', 'off', 'over', 'under', 'again', 'further', 'then', 'once', 'here', 'there', 'when', 'where', 'why', 'how', 'all', 'any', 'both', 'each', 'few', 'more', 'most', 'other', 'some', 'such', 'no', 'nor', 'not', 'only', 'own', 'same', 'so', 'than', 'too', 'very', 's', 't', 'can', 'will', 'just', 'don', \"don't\", 'should', \"should've\", 'now', 'd', 'll', 'm', 'o', 're', 've', 'y', 'ain', 'aren', \"aren't\", 'couldn', \"couldn't\", 'didn', \"didn't\", 'doesn', \"doesn't\", 'hadn', \"hadn't\", 'hasn', \"hasn't\", 'haven', \"haven't\", 'isn', \"isn't\", 'ma', 'mightn', \"mightn't\", 'mustn', \"mustn't\", 'needn', \"needn't\", 'shan', \"shan't\", 'shouldn', \"shouldn't\", 'wasn', \"wasn't\", 'weren', \"weren't\", 'won', \"won't\", 'wouldn', \"wouldn't\"]\n",
      "Punctuations \n",
      " !\"#$%&'()*+,-./:;<=>?@[\\]^_`{|}~\n"
     ]
    }
   ],
   "source": [
    "stopwords_eng=stopwords.words('english')\n",
    "print('All Stopwords \\n',stopwords_eng)\n",
    "print('Punctuations \\n',string.punctuation)"
   ]
  },
  {
   "cell_type": "code",
   "execution_count": 85,
   "metadata": {
    "execution": {
     "iopub.execute_input": "2022-08-16T15:18:01.397810Z",
     "iopub.status.busy": "2022-08-16T15:18:01.396923Z",
     "iopub.status.idle": "2022-08-16T15:18:01.399964Z",
     "shell.execute_reply": "2022-08-16T15:18:01.400385Z",
     "shell.execute_reply.started": "2022-08-16T15:10:45.856265Z"
    },
    "papermill": {
     "duration": 0.093834,
     "end_time": "2022-08-16T15:18:01.400509",
     "exception": false,
     "start_time": "2022-08-16T15:18:01.306675",
     "status": "completed"
    },
    "tags": []
   },
   "outputs": [
    {
     "data": {
      "text/plain": [
       "['reconstruct subject specific effect map  predictive model allow subject specific inference analyze disease relate alteration neuroimage datum give subject data inference level global identifiye condition presence subject local detect condition effect individual measurement extract subject datum global inference widely local inference form subject specific effect map rarely exist model yield noisy detection compose disperse isolate island article propose reconstruction method name rsm improve subject specific detection predictive modeling approach particular binary classifier rsm specifically aim reduce noise sampling error associate finite sample example train classifier propose method wrapper type algorithm different binary classifier diagnostic manner information condition presence reconstruction pose maximum posteriori problem prior model parameter estimate train datum classifier specific fashion experimental evaluation perform synthetically generate datum datum alzheimer disease neuroimaging initiative adni database result synthetic datum demonstrate rsm yield high detection accuracy compare model directly bootstrap averaging analyses adni dataset rsm improve correlation subject specific detection cortical thickness datum non imaging marker alzheimer disease ad  mini mental state examination score cerebrospinal fluid amyloid  beta level reliability study longitudinal adni dataset improvement detection reliability rsm',\n",
       " 'rotation invariance neural network  rotation invariance translation invariance great value image recognition task paper bring new architecture convolutional neural network cnn name cyclic convolutional layer achieve rotation invariance  symbol recognition position orientation  symbol network achieve detection purpose multiple non overlap target architecture achieve shot learn case invariance']"
      ]
     },
     "execution_count": 85,
     "metadata": {},
     "output_type": "execute_result"
    }
   ],
   "source": [
    "cleaned_text[:2]"
   ]
  },
  {
   "cell_type": "code",
   "execution_count": 86,
   "metadata": {
    "execution": {
     "iopub.execute_input": "2022-08-16T15:18:01.574950Z",
     "iopub.status.busy": "2022-08-16T15:18:01.574419Z",
     "iopub.status.idle": "2022-08-16T15:18:01.580066Z",
     "shell.execute_reply": "2022-08-16T15:18:01.579587Z",
     "shell.execute_reply.started": "2022-08-16T15:10:49.053986Z"
    },
    "papermill": {
     "duration": 0.095399,
     "end_time": "2022-08-16T15:18:01.580158",
     "exception": false,
     "start_time": "2022-08-16T15:18:01.484759",
     "status": "completed"
    },
    "tags": []
   },
   "outputs": [
    {
     "data": {
      "text/plain": [
       "20972"
      ]
     },
     "execution_count": 86,
     "metadata": {},
     "output_type": "execute_result"
    }
   ],
   "source": [
    "len(cleaned_text)"
   ]
  },
  {
   "cell_type": "code",
   "execution_count": 87,
   "metadata": {
    "execution": {
     "iopub.execute_input": "2022-08-16T15:18:01.754027Z",
     "iopub.status.busy": "2022-08-16T15:18:01.753500Z",
     "iopub.status.idle": "2022-08-16T15:18:01.759255Z",
     "shell.execute_reply": "2022-08-16T15:18:01.758855Z",
     "shell.execute_reply.started": "2022-08-16T15:10:53.549510Z"
    },
    "papermill": {
     "duration": 0.095057,
     "end_time": "2022-08-16T15:18:01.759368",
     "exception": false,
     "start_time": "2022-08-16T15:18:01.664311",
     "status": "completed"
    },
    "tags": []
   },
   "outputs": [
    {
     "data": {
      "text/plain": [
       "['Computer Science',\n",
       " 'Physics',\n",
       " 'Mathematics',\n",
       " 'Statistics',\n",
       " 'Quantitative Biology',\n",
       " 'Quantitative Finance']"
      ]
     },
     "execution_count": 87,
     "metadata": {},
     "output_type": "execute_result"
    }
   ],
   "source": [
    "categories"
   ]
  },
  {
   "cell_type": "code",
   "execution_count": 88,
   "metadata": {
    "execution": {
     "iopub.execute_input": "2022-08-16T15:18:01.937057Z",
     "iopub.status.busy": "2022-08-16T15:18:01.936059Z",
     "iopub.status.idle": "2022-08-16T15:18:01.978083Z",
     "shell.execute_reply": "2022-08-16T15:18:01.977598Z",
     "shell.execute_reply.started": "2022-08-16T15:10:59.784355Z"
    },
    "papermill": {
     "duration": 0.132986,
     "end_time": "2022-08-16T15:18:01.978185",
     "exception": false,
     "start_time": "2022-08-16T15:18:01.845199",
     "status": "completed"
    },
    "tags": []
   },
   "outputs": [
    {
     "data": {
      "text/plain": [
       "array([0, 0, 2, ..., 0, 2, 2])"
      ]
     },
     "execution_count": 88,
     "metadata": {},
     "output_type": "execute_result"
    }
   ],
   "source": [
    "y_train=train_df.loc[:,categories].idxmax(axis=1)\n",
    "y_train=y_train.replace(['Computer Science',\n",
    " 'Physics',\n",
    " 'Mathematics',\n",
    " 'Statistics',\n",
    " 'Quantitative Biology',\n",
    " 'Quantitative Finance'],[0,1,2,3,4,5])\n",
    "y_train=y_train.values\n",
    "y_train"
   ]
  },
  {
   "cell_type": "code",
   "execution_count": 89,
   "metadata": {
    "execution": {
     "iopub.execute_input": "2022-08-16T15:18:02.193868Z",
     "iopub.status.busy": "2022-08-16T15:18:02.173415Z",
     "iopub.status.idle": "2022-08-16T15:18:03.213109Z",
     "shell.execute_reply": "2022-08-16T15:18:03.212678Z",
     "shell.execute_reply.started": "2022-08-16T15:11:00.459415Z"
    },
    "papermill": {
     "duration": 1.147951,
     "end_time": "2022-08-16T15:18:03.213213",
     "exception": false,
     "start_time": "2022-08-16T15:18:02.065262",
     "status": "completed"
    },
    "tags": []
   },
   "outputs": [
    {
     "name": "stdout",
     "output_type": "stream",
     "text": [
      "encoded reviews: [[23581, 34592, 24047, 24332, 45265, 33036, 9786, 11530, 34592, 24047, 14538, 35541, 22751, 33279, 45553, 23304, 6837, 37404, 34592, 43389, 14538, 18335, 30615, 30226, 15310, 40376, 34592, 7376, 40617, 15310, 24332, 36004, 18680, 20512, 34592, 6837, 30615, 14538, 9628, 7376, 14538, 41955, 34592, 24047, 24332, 45265, 28915, 34990, 9786, 38701, 41333, 37590, 17702, 34294, 41473, 24521, 13982, 3599, 3735, 23243, 20460, 10146, 3752, 34592, 24047, 37590, 33036, 20909, 5336, 33428, 6674, 42591, 10146, 27610, 41668, 28486, 10846, 17315, 9323, 43054, 45259, 22442, 35058, 41187, 42591, 3599, 23243, 32918, 29018, 12307, 38648, 6674, 42591, 25540, 4834, 38083, 15310, 40376, 3735, 1769, 41422, 41688, 23621, 7806, 9786, 36597, 40662, 41187, 6837, 42591, 24047, 33750, 29549, 27709, 11529, 26984, 25086, 6837, 6837, 864, 22751, 39643, 15934, 3032, 10111, 6397, 36415, 6837, 25459, 10146, 38701, 42814, 37590, 24256, 9742, 9786, 19988, 37921, 22186, 21208, 3032, 28031, 10146, 3752, 30796, 34592, 24047, 37590, 16021, 28431, 6837, 35514, 20233, 4267, 864, 22751, 21474, 16933, 11428, 25487, 2521, 6163, 28800, 40624, 26559, 14499, 18335, 28109, 35503, 16784, 3032, 28031, 5422, 37590, 28109, 10146], [20384, 41376, 251, 34690, 20384, 41376, 32214, 41376, 17182, 16856, 623, 22686, 14624, 31843, 7274, 41319, 35875, 18625, 251, 34690, 43532, 20460, 9263, 18625, 7386, 22750, 20384, 41376, 7525, 22686, 3980, 6030, 7525, 34690, 22750, 37590, 38573, 26443, 35514, 9850, 5851, 35875, 22750, 17524, 10494, 2211, 41376], [24848, 20528, 17439, 37399, 20528, 5065, 10607, 24349, 32333, 24848, 20528, 1144, 39580, 24848, 12899, 33428, 35503, 17200, 38083, 20528, 11530, 42675, 38083, 12899, 45991, 17439, 37399, 20528, 5065, 18780, 10126, 43771, 41364, 194, 17439, 37399, 38083, 20528, 37335, 633, 23540, 15324, 840, 17439, 37399, 12899, 5065, 43771, 17439, 37399, 20528, 5065, 18780, 10126, 43771, 917, 16132, 37399, 33921, 5065, 23647, 43771], [45259, 18379, 28900, 16093, 10769, 855, 11737, 22013, 3978, 16093, 855, 11737, 22013, 20314, 33573, 2604, 10769, 33573, 40752, 16093, 19727, 3978, 1697, 43758, 2234, 17030, 37852, 6719, 44044, 9813, 25534, 18766, 32935, 22336, 16093, 20314, 33573, 33573, 31864, 26913, 19844, 3599, 4265, 5616, 6147, 34729, 44787, 19844, 22336, 3978, 33065, 3687, 876, 44787, 19844, 44948, 15310, 31864, 30810, 25124, 38233, 16856, 5616, 3687, 25425, 31216, 27086, 19844, 16093, 19727, 3978, 20396, 6397, 566, 9311, 23243], [41171, 35503, 18890, 12801, 26844, 12801, 13201, 41187, 7236, 44050, 42372, 38596, 6837, 32253, 28000, 12495, 23615, 805, 22486, 38596, 17023, 22442, 28000, 9092, 7693, 12832, 22298, 44050, 42372, 45155, 14202, 29656, 12307, 12801, 13201, 41187, 10343, 18890, 12801, 26844, 2759, 9742, 44050, 42372, 42802, 38596, 6837, 32253, 28000, 34284, 11646, 45739, 25124, 25507, 38648, 10433, 2894, 19717, 20554, 14624, 5920, 6397, 10343, 2759, 41364, 32737, 17636, 38893, 5042, 3752, 34913, 20554, 19717, 24256, 37415, 14701, 27187, 20035, 35894, 17023, 6129, 2759, 10343, 36597, 37415, 15468, 16456, 259, 12230, 35508, 6837, 17444, 6615, 11646, 45739, 10307], [42477, 6719, 3216, 33999, 21138, 29577, 31454, 13133, 8370, 1579, 2234, 1760, 7698, 29018, 44253, 15310, 29577, 14796, 1579, 2234, 24051, 21138, 23158, 2193, 26980, 9248, 42532, 31454, 31914, 3687, 34068, 1579, 42532, 31454, 31914, 37335, 23841, 2937, 2937, 41422, 31699, 26980, 29149, 25487, 36463, 42532, 31454, 7766, 18863, 36110, 31425, 33573, 14668, 31454, 14616, 42532, 31454, 31914, 24089, 33573, 34178, 37335, 42532, 31454, 19108, 2937, 14668, 31454, 36117, 41422, 31699, 36463, 42532, 3463, 20996, 40109, 36463, 42532, 31454, 41661, 8230, 38103, 43771, 37404, 31699, 31454, 10169, 41318, 12329, 34714, 21138, 14668, 31454, 19907, 34178, 12307, 42532, 31454, 19108, 14668, 31454, 7133, 41422, 31699, 36463, 42532, 31454]]\n"
     ]
    }
   ],
   "source": [
    "Vocab_size = 46000\n",
    "encoded_text = [one_hot(d,Vocab_size) for d in cleaned_text]\n",
    "print(f'encoded reviews: {encoded_text[:6]}')"
   ]
  },
  {
   "cell_type": "code",
   "execution_count": 90,
   "metadata": {
    "execution": {
     "iopub.execute_input": "2022-08-16T15:18:03.398644Z",
     "iopub.status.busy": "2022-08-16T15:18:03.397984Z",
     "iopub.status.idle": "2022-08-16T15:18:03.401995Z",
     "shell.execute_reply": "2022-08-16T15:18:03.401404Z",
     "shell.execute_reply.started": "2022-08-16T15:11:01.688788Z"
    },
    "papermill": {
     "duration": 0.101639,
     "end_time": "2022-08-16T15:18:03.402128",
     "exception": false,
     "start_time": "2022-08-16T15:18:03.300489",
     "status": "completed"
    },
    "tags": []
   },
   "outputs": [
    {
     "name": "stdout",
     "output_type": "stream",
     "text": [
      "239\n"
     ]
    }
   ],
   "source": [
    "m=0\n",
    "for i in encoded_text:\n",
    "    m=max(m,len(i))\n",
    "    \n",
    "print(m)"
   ]
  },
  {
   "cell_type": "code",
   "execution_count": 91,
   "metadata": {
    "execution": {
     "iopub.execute_input": "2022-08-16T15:18:03.584637Z",
     "iopub.status.busy": "2022-08-16T15:18:03.583257Z",
     "iopub.status.idle": "2022-08-16T15:18:03.811108Z",
     "shell.execute_reply": "2022-08-16T15:18:03.811753Z",
     "shell.execute_reply.started": "2022-08-16T15:11:01.939192Z"
    },
    "papermill": {
     "duration": 0.322598,
     "end_time": "2022-08-16T15:18:03.811953",
     "exception": false,
     "start_time": "2022-08-16T15:18:03.489355",
     "status": "completed"
    },
    "tags": []
   },
   "outputs": [
    {
     "name": "stdout",
     "output_type": "stream",
     "text": [
      "[[    0     0     0 ... 37590 28109 10146]\n",
      " [    0     0     0 ... 10494  2211 41376]\n",
      " [    0     0     0 ...  5065 23647 43771]\n",
      " ...\n",
      " [    0     0     0 ...  1410 12789 27601]\n",
      " [    0     0     0 ...  9742 34990 30936]\n",
      " [    0     0     0 ... 14520 15839  7806]]\n"
     ]
    }
   ],
   "source": [
    "max_length=239\n",
    "padded_text = pad_sequences(encoded_text,maxlen=max_length,padding='pre')\n",
    "print(padded_text)"
   ]
  },
  {
   "cell_type": "code",
   "execution_count": 92,
   "metadata": {
    "execution": {
     "iopub.execute_input": "2022-08-16T15:18:03.994760Z",
     "iopub.status.busy": "2022-08-16T15:18:03.993622Z",
     "iopub.status.idle": "2022-08-16T15:18:04.008286Z",
     "shell.execute_reply": "2022-08-16T15:18:04.007862Z",
     "shell.execute_reply.started": "2022-08-16T15:11:03.065984Z"
    },
    "papermill": {
     "duration": 0.107413,
     "end_time": "2022-08-16T15:18:04.008451",
     "exception": false,
     "start_time": "2022-08-16T15:18:03.901038",
     "status": "completed"
    },
    "tags": []
   },
   "outputs": [
    {
     "name": "stdout",
     "output_type": "stream",
     "text": [
      "(16777,) (16777, 239) (4195,) (4195, 239)\n"
     ]
    }
   ],
   "source": [
    "# Split data into train and test sets\n",
    "x_train_m, x_test, y_train_m, y_test = train_test_split (padded_text,\n",
    "                                                     y_train , test_size=0.2,random_state=0)\n",
    "print(y_train_m.shape,x_train_m.shape,y_test.shape,x_test.shape)"
   ]
  },
  {
   "cell_type": "code",
   "execution_count": 93,
   "metadata": {
    "execution": {
     "iopub.execute_input": "2022-08-16T15:18:04.186835Z",
     "iopub.status.busy": "2022-08-16T15:18:04.186108Z",
     "iopub.status.idle": "2022-08-16T15:18:04.188669Z",
     "shell.execute_reply": "2022-08-16T15:18:04.189048Z",
     "shell.execute_reply.started": "2022-08-16T15:11:03.819125Z"
    },
    "papermill": {
     "duration": 0.094327,
     "end_time": "2022-08-16T15:18:04.189167",
     "exception": false,
     "start_time": "2022-08-16T15:18:04.094840",
     "status": "completed"
    },
    "tags": []
   },
   "outputs": [],
   "source": [
    "# import tensorflow as tf\n",
    "# import keras.backend as K\n",
    "\n",
    "# def f1(y_true, y_pred):\n",
    "#     y_pred = K.round(y_pred)\n",
    "#     tp = K.sum(K.cast(y_true*y_pred, 'float'), axis=0)\n",
    "#     # tn = K.sum(K.cast((1-y_true)*(1-y_pred), 'float'), axis=0)\n",
    "#     fp = K.sum(K.cast((1-y_true)*y_pred, 'float'), axis=0)\n",
    "#     fn = K.sum(K.cast(y_true*(1-y_pred), 'float'), axis=0)\n",
    "\n",
    "#     p = tp / (tp + fp + K.epsilon())\n",
    "#     r = tp / (tp + fn + K.epsilon())\n",
    "\n",
    "#     f1 = 2*p*r / (p+r+K.epsilon())\n",
    "#     f1 = tf.where(tf.math.is_nan(f1), tf.zeros_like(f1), f1)\n",
    "#     return K.mean(f1)"
   ]
  },
  {
   "cell_type": "code",
   "execution_count": 94,
   "metadata": {
    "execution": {
     "iopub.execute_input": "2022-08-16T15:18:04.371559Z",
     "iopub.status.busy": "2022-08-16T15:18:04.370709Z",
     "iopub.status.idle": "2022-08-16T15:18:04.373429Z",
     "shell.execute_reply": "2022-08-16T15:18:04.372966Z",
     "shell.execute_reply.started": "2022-08-16T15:11:04.459354Z"
    },
    "papermill": {
     "duration": 0.094934,
     "end_time": "2022-08-16T15:18:04.373525",
     "exception": false,
     "start_time": "2022-08-16T15:18:04.278591",
     "status": "completed"
    },
    "tags": []
   },
   "outputs": [],
   "source": [
    "# def fbeta_score_macro(y_true, y_pred, beta=1, threshold=0.5):\n",
    "\n",
    "#     y_true = K.cast(y_true, 'float')\n",
    "#     y_pred = K.cast(K.greater(K.cast(y_pred, 'float'), threshold), 'float')\n",
    "\n",
    "#     tp = K.sum(y_true * y_pred, axis=0)\n",
    "#     fp = K.sum((1 - y_true) * y_pred, axis=0)\n",
    "#     fn = K.sum(y_true * (1 - y_pred), axis=0)\n",
    "\n",
    "#     p = tp / (tp + fp + K.epsilon())\n",
    "#     r = tp / (tp + fn + K.epsilon())\n",
    "\n",
    "#     f1 = (1 + beta ** 2) * p * r / ((beta ** 2) * p + r + K.epsilon())\n",
    "#     f1 = tf.where(tf.math.is_nan(f1), tf.zeros_like(f1), f1)\n",
    "\n",
    "#     return K.mean(f1)"
   ]
  },
  {
   "cell_type": "code",
   "execution_count": null,
   "metadata": {
    "papermill": {
     "duration": 0.086416,
     "end_time": "2022-08-16T15:18:04.546464",
     "exception": false,
     "start_time": "2022-08-16T15:18:04.460048",
     "status": "completed"
    },
    "tags": []
   },
   "outputs": [],
   "source": []
  },
  {
   "cell_type": "code",
   "execution_count": 95,
   "metadata": {
    "execution": {
     "iopub.execute_input": "2022-08-16T15:18:04.725078Z",
     "iopub.status.busy": "2022-08-16T15:18:04.724213Z",
     "iopub.status.idle": "2022-08-16T15:18:04.726423Z",
     "shell.execute_reply": "2022-08-16T15:18:04.726798Z",
     "shell.execute_reply.started": "2022-08-16T15:11:29.944103Z"
    },
    "papermill": {
     "duration": 0.093801,
     "end_time": "2022-08-16T15:18:04.726915",
     "exception": false,
     "start_time": "2022-08-16T15:18:04.633114",
     "status": "completed"
    },
    "tags": []
   },
   "outputs": [],
   "source": [
    "# f1=tfa.metrics.F1Score(\n",
    "#     num_classes=6,\n",
    "#     average='macro',\n",
    "#     threshold=0.5\n",
    "# )"
   ]
  },
  {
   "cell_type": "code",
   "execution_count": 96,
   "metadata": {
    "execution": {
     "iopub.execute_input": "2022-08-16T15:18:04.908466Z",
     "iopub.status.busy": "2022-08-16T15:18:04.907604Z",
     "iopub.status.idle": "2022-08-16T15:18:04.909650Z",
     "shell.execute_reply": "2022-08-16T15:18:04.910046Z",
     "shell.execute_reply.started": "2022-08-16T15:11:51.539180Z"
    },
    "papermill": {
     "duration": 0.095455,
     "end_time": "2022-08-16T15:18:04.910174",
     "exception": false,
     "start_time": "2022-08-16T15:18:04.814719",
     "status": "completed"
    },
    "tags": []
   },
   "outputs": [],
   "source": [
    "# from tensorflow.keras.layers import Dense,LSTM \n",
    "# from tensorflow.keras.layers import Dropout\n",
    "# import tensorflow_addons as tfa\n",
    "# model = Sequential()\n",
    "# embedding_layer = Embedding(input_dim=Vocab_size,output_dim=40,input_length=max_length)\n",
    "# model.add(embedding_layer)\n",
    "\n",
    "# model.add(LSTM(100,\n",
    "#                input_shape=x_train_m.shape,\n",
    "#                return_sequences=True))\n",
    "# model.add(Flatten())\n",
    "# model.add(Dropout(0.2))\n",
    "# model.add(Dense(6,activation=\"softmax\"))\n",
    "# model.compile(optimizer='adam',loss='sparse_categorical_crossentropy',metrics=[f1])\n",
    "# model.summary()"
   ]
  },
  {
   "cell_type": "code",
   "execution_count": 97,
   "metadata": {
    "execution": {
     "iopub.execute_input": "2022-08-16T15:18:05.088538Z",
     "iopub.status.busy": "2022-08-16T15:18:05.087693Z",
     "iopub.status.idle": "2022-08-16T15:18:05.090342Z",
     "shell.execute_reply": "2022-08-16T15:18:05.089923Z",
     "shell.execute_reply.started": "2022-08-16T15:11:52.545096Z"
    },
    "papermill": {
     "duration": 0.093811,
     "end_time": "2022-08-16T15:18:05.090448",
     "exception": false,
     "start_time": "2022-08-16T15:18:04.996637",
     "status": "completed"
    },
    "tags": []
   },
   "outputs": [],
   "source": [
    "# final_docs=model.predict(padded_text)\n",
    "# final_docs[:3]"
   ]
  },
  {
   "cell_type": "code",
   "execution_count": 98,
   "metadata": {
    "execution": {
     "iopub.execute_input": "2022-08-16T15:18:05.266609Z",
     "iopub.status.busy": "2022-08-16T15:18:05.265921Z",
     "iopub.status.idle": "2022-08-16T15:18:05.268857Z",
     "shell.execute_reply": "2022-08-16T15:18:05.268273Z",
     "shell.execute_reply.started": "2022-08-16T15:11:58.974545Z"
    },
    "papermill": {
     "duration": 0.093103,
     "end_time": "2022-08-16T15:18:05.268970",
     "exception": false,
     "start_time": "2022-08-16T15:18:05.175867",
     "status": "completed"
    },
    "tags": []
   },
   "outputs": [],
   "source": [
    "# model.fit(x_train_m,y_train_m,validation_data=(x_test,y_test),epochs=10,verbose=1)"
   ]
  },
  {
   "cell_type": "code",
   "execution_count": 99,
   "metadata": {
    "execution": {
     "iopub.execute_input": "2022-08-16T15:18:05.447581Z",
     "iopub.status.busy": "2022-08-16T15:18:05.446732Z",
     "iopub.status.idle": "2022-08-16T15:18:05.449246Z",
     "shell.execute_reply": "2022-08-16T15:18:05.448851Z",
     "shell.execute_reply.started": "2022-08-16T15:12:18.625188Z"
    },
    "papermill": {
     "duration": 0.093311,
     "end_time": "2022-08-16T15:18:05.449357",
     "exception": false,
     "start_time": "2022-08-16T15:18:05.356046",
     "status": "completed"
    },
    "tags": []
   },
   "outputs": [],
   "source": [
    "# pred=model.predict(x_train_m)\n",
    "# pred\n"
   ]
  },
  {
   "cell_type": "markdown",
   "metadata": {
    "papermill": {
     "duration": 0.086526,
     "end_time": "2022-08-16T15:18:05.622815",
     "exception": false,
     "start_time": "2022-08-16T15:18:05.536289",
     "status": "completed"
    },
    "tags": []
   },
   "source": [
    "# References\n",
    "\n",
    "* https://www.analyticsvidhya.com/blog/2017/08/introduction-to-multi-label-classification/\n",
    "\n",
    "* https://towardsdatascience.com/journey-to-the-center-of-multi-label-classification-384c40229bff"
   ]
  },
  {
   "cell_type": "code",
   "execution_count": null,
   "metadata": {
    "papermill": {
     "duration": 0.086318,
     "end_time": "2022-08-16T15:18:05.795307",
     "exception": false,
     "start_time": "2022-08-16T15:18:05.708989",
     "status": "completed"
    },
    "tags": []
   },
   "outputs": [],
   "source": []
  },
  {
   "cell_type": "code",
   "execution_count": null,
   "metadata": {
    "papermill": {
     "duration": 0.087406,
     "end_time": "2022-08-16T15:18:05.968245",
     "exception": false,
     "start_time": "2022-08-16T15:18:05.880839",
     "status": "completed"
    },
    "tags": []
   },
   "outputs": [],
   "source": []
  }
 ],
 "metadata": {
  "kernelspec": {
   "display_name": "Python 3",
   "language": "python",
   "name": "python3"
  },
  "language_info": {
   "codemirror_mode": {
    "name": "ipython",
    "version": 3
   },
   "file_extension": ".py",
   "mimetype": "text/x-python",
   "name": "python",
   "nbconvert_exporter": "python",
   "pygments_lexer": "ipython3",
   "version": "3.7.6"
  },
  "papermill": {
   "duration": 93.558661,
   "end_time": "2022-08-16T15:18:06.269639",
   "environment_variables": {},
   "exception": null,
   "input_path": "__notebook__.ipynb",
   "output_path": "__notebook__.ipynb",
   "parameters": {},
   "start_time": "2022-08-16T15:16:32.710978",
   "version": "2.1.0"
  }
 },
 "nbformat": 4,
 "nbformat_minor": 4
}
